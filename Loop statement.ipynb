{
 "cells": [
  {
   "cell_type": "code",
   "execution_count": 1,
   "id": "dbf62a01",
   "metadata": {},
   "outputs": [],
   "source": [
    "# loopp in python\n",
    "# for\n",
    "# while"
   ]
  },
  {
   "cell_type": "code",
   "execution_count": 3,
   "id": "051e31a8",
   "metadata": {},
   "outputs": [],
   "source": [
    "# for\n",
    "# range(5)  -> 0,1,2,3,4    for(i = 0; i < 5; i++)\n",
    "# range(1,5)  -> 1,2,3,4    for(i = 1;i < 5; i++)\n",
    "# range(1,5,2)-> 1,3    for(i = 1;i < 5; i=+2)"
   ]
  },
  {
   "cell_type": "code",
   "execution_count": 4,
   "id": "731293e6",
   "metadata": {},
   "outputs": [
    {
     "name": "stdout",
     "output_type": "stream",
     "text": [
      "0 hello world\n",
      "1 hello world\n",
      "2 hello world\n",
      "3 hello world\n",
      "4 hello world\n"
     ]
    }
   ],
   "source": [
    "for i in range(5):\n",
    "    print(i,\"hello world\")"
   ]
  },
  {
   "cell_type": "code",
   "execution_count": 5,
   "id": "eb183f9c",
   "metadata": {},
   "outputs": [
    {
     "name": "stdout",
     "output_type": "stream",
     "text": [
      "1 hello world\n",
      "2 hello world\n",
      "3 hello world\n",
      "4 hello world\n"
     ]
    }
   ],
   "source": [
    "for i in range(1,5):\n",
    "    print(i,\"hello world\")"
   ]
  },
  {
   "cell_type": "code",
   "execution_count": 6,
   "id": "553a23ed",
   "metadata": {},
   "outputs": [
    {
     "name": "stdout",
     "output_type": "stream",
     "text": [
      "1 hello world\n",
      "3 hello world\n"
     ]
    }
   ],
   "source": [
    "for i in range(1,5,2):\n",
    "    print(i,\"hello world\")"
   ]
  },
  {
   "cell_type": "code",
   "execution_count": 9,
   "id": "e179c9e7",
   "metadata": {},
   "outputs": [
    {
     "name": "stdout",
     "output_type": "stream",
     "text": [
      "Enter n = 8\n",
      "8\n",
      "16\n",
      "24\n",
      "32\n",
      "40\n",
      "48\n",
      "56\n",
      "64\n",
      "72\n",
      "80\n"
     ]
    }
   ],
   "source": [
    "n = int(input(\"Enter n = \"))\n",
    "for i in range(1,11):\n",
    "    print(n*i)"
   ]
  },
  {
   "cell_type": "code",
   "execution_count": 10,
   "id": "7b0fdb67",
   "metadata": {},
   "outputs": [
    {
     "name": "stdout",
     "output_type": "stream",
     "text": [
      "Enter n = 8\n",
      "8 * 1 = 8\n",
      "8 * 2 = 16\n",
      "8 * 3 = 24\n",
      "8 * 4 = 32\n",
      "8 * 5 = 40\n",
      "8 * 6 = 48\n",
      "8 * 7 = 56\n",
      "8 * 8 = 64\n",
      "8 * 9 = 72\n",
      "8 * 10 = 80\n"
     ]
    }
   ],
   "source": [
    "n = int(input(\"Enter n = \"))\n",
    "for i in range(1,11):\n",
    "    print(n,\"*\",i,\"=\",n*i)"
   ]
  },
  {
   "cell_type": "code",
   "execution_count": 13,
   "id": "ce649c61",
   "metadata": {},
   "outputs": [
    {
     "name": "stdout",
     "output_type": "stream",
     "text": [
      "Enter n = 3\n",
      "Enter x = 1\n",
      "1\n",
      "Enter x = 2\n",
      "3\n",
      "Enter x = 3\n",
      "6\n"
     ]
    }
   ],
   "source": [
    "s = 0\n",
    "n = int(input(\"Enter n = \"))\n",
    "for i in range(n):\n",
    "    x = int(input(\"Enter x = \"))\n",
    "    s = s+x\n",
    "    print(s)"
   ]
  },
  {
   "cell_type": "code",
   "execution_count": 20,
   "id": "3efa7713",
   "metadata": {},
   "outputs": [
    {
     "name": "stdout",
     "output_type": "stream",
     "text": [
      "Enter n = 3\n",
      "Enter name = Nobel Guuu\n",
      "Enter name = Deepak Don\n",
      "Enter name = GYabhu Hero\n",
      "Nobel Guuu\tDeepak Don\tGYabhu Hero\t\n"
     ]
    }
   ],
   "source": [
    "s = str()\n",
    "n = int(input(\"Enter n = \"))\n",
    "for i in range(n):\n",
    "    name = (input(\"Enter name = \"))\n",
    "    s = s+name+\"\\t\"\n",
    "print(s)"
   ]
  },
  {
   "cell_type": "code",
   "execution_count": 25,
   "id": "97089ccb",
   "metadata": {},
   "outputs": [
    {
     "name": "stdout",
     "output_type": "stream",
     "text": [
      "Enter n = 3\n",
      "Enter name = Nobel Guu\n",
      "Enter phone = 69\n",
      "Enter name = Deepak Don\n",
      "Enter phone = 80\n",
      "Enter name = Gyabhu Hero\n",
      "Enter phone = 09\n",
      "Nobel Guu 69\tDeepak Don 80\tGyabhu Hero 09\t\n"
     ]
    }
   ],
   "source": [
    "s = str()\n",
    "n = int(input(\"Enter n = \"))\n",
    "for i in range(n):\n",
    "    name = input(\"Enter name = \")\n",
    "    phone = input(\"Enter phone = \")\n",
    "    s = s+name+\" \"+phone+\"\\t\"\n",
    "print(s)"
   ]
  },
  {
   "cell_type": "code",
   "execution_count": 26,
   "id": "ed60aa54",
   "metadata": {},
   "outputs": [
    {
     "name": "stdout",
     "output_type": "stream",
     "text": [
      "Nobel Guu 69\tDeepak Don 80\tGyabhu Hero 09\t\n"
     ]
    }
   ],
   "source": [
    "print(s)"
   ]
  },
  {
   "cell_type": "code",
   "execution_count": 21,
   "id": "af27d306",
   "metadata": {},
   "outputs": [
    {
     "name": "stdout",
     "output_type": "stream",
     "text": [
      "Enter n = 5\n",
      "1\n",
      "2\n",
      "6\n",
      "24\n",
      "120\n"
     ]
    }
   ],
   "source": [
    "# 5! = 1*2*3*4*5\n",
    "fac = 1\n",
    "n = int(input(\"Enter n = \"))\n",
    "for i in range(1,n+1):\n",
    "    fac = fac*i\n",
    "    \n",
    "    print(fac)"
   ]
  },
  {
   "cell_type": "code",
   "execution_count": 22,
   "id": "e7b703b1",
   "metadata": {},
   "outputs": [
    {
     "name": "stdout",
     "output_type": "stream",
     "text": [
      "A billing system\n",
      "Enter how many types of product do you want to buy = 2\n",
      "Enter product name = chocolate\n",
      "Enter product quantity = 2\n",
      "Enter product price = 12\n",
      "Enter product name = milk\n",
      "Enter product quantity = 2\n",
      "Enter product price = 40\n",
      "The total price is =  80\n"
     ]
    }
   ],
   "source": [
    "#assignment\n",
    "#WAP to create a billing system\n",
    "print(\"A billing system\")\n",
    "total = 0\n",
    "no_of_product = int(input(\"Enter how many types of product do you want to buy = \"))\n",
    "for i in range(no_of_product):\n",
    "  product = input(\"Enter product name = \")\n",
    "  quantaty = int(input(\"Enter product quantity = \"))\n",
    "  price = int(input(\"Enter product price = \"))\n",
    "  total = quantaty * price\n",
    "print(\"The total price is = \", total)"
   ]
  },
  {
   "cell_type": "code",
   "execution_count": 1,
   "id": "3a4dfe2a",
   "metadata": {},
   "outputs": [
    {
     "name": "stdout",
     "output_type": "stream",
     "text": [
      "Billing System\n",
      "Enter the types of product = 2\n",
      "Name of the product =Milk\n",
      "Enter the quantity = 2\n",
      "Enter the price = 60\n",
      "The total price is =  120\n",
      "Name of the product =chocolate\n",
      "Enter the quantity = 2\n",
      "Enter the price = 90\n",
      "The total price is =  300\n"
     ]
    }
   ],
   "source": [
    "#assignment\n",
    "print(\"Billing System\")\n",
    "total = 0\n",
    "no_of_product = int(input(\"Enter the types of product = \"))\n",
    "for i in range(no_of_product):\n",
    "    product = input(\"Name of the product =\")\n",
    "    quantity = int(input(\"Enter the quantity = \"))\n",
    "    price = int(input(\"Enter the price = \"))\n",
    "    total = total+quantity * price\n",
    "    print(\"The total price is = \",total)\n"
   ]
  },
  {
   "cell_type": "code",
   "execution_count": 4,
   "id": "65db66fb",
   "metadata": {},
   "outputs": [
    {
     "name": "stdout",
     "output_type": "stream",
     "text": [
      "Enter the number12\n",
      "1\n",
      "2\n",
      "6\n",
      "24\n",
      "120\n",
      "720\n",
      "5040\n",
      "40320\n",
      "362880\n",
      "3628800\n",
      "39916800\n",
      "479001600\n"
     ]
    }
   ],
   "source": [
    "fac =1\n",
    "num = int(input(\"Enter the number\"))\n",
    "for x in range(1,num+1):\n",
    "    fac = fac*x\n",
    "    \n",
    "    print(fac)"
   ]
  },
  {
   "cell_type": "code",
   "execution_count": 1,
   "id": "d67fd5ff",
   "metadata": {},
   "outputs": [
    {
     "name": "stdout",
     "output_type": "stream",
     "text": [
      "Billing System\n",
      "Enter n = 2\n",
      "Enter Name = chocolaate\n",
      "Enter the quantity = 2\n",
      "Enter the price = 90\n",
      "Enter Name = apple\n",
      "Enter the quantity = 1\n",
      "Enter the price = 200\n",
      "Name,Price,Quantity,Total\n",
      "chocolaate 2 90 180\n",
      "apple 1 200 200\n",
      "\n"
     ]
    }
   ],
   "source": [
    "#assignment\n",
    "print(\"Billing System\")\n",
    "data = str()\n",
    "n = int(input(\"Enter n = \"))\n",
    "for i in range(n):\n",
    "    name = input(\"Enter Name = \")\n",
    "    quantity = int(input(\"Enter the quantity = \"))\n",
    "    price = int(input(\"Enter the price = \"))\n",
    "    total = quantity * price\n",
    "    bill = name +\" \" + str(quantity)+ \" \" + str(price) +\" \" + str(total) +\"\\n\"\n",
    "    data = data + bill\n",
    "print(\"Name,Price,Quantity,Total\")\n",
    "print(data)\n"
   ]
  },
  {
   "cell_type": "code",
   "execution_count": 2,
   "id": "c58cc2a4",
   "metadata": {},
   "outputs": [
    {
     "name": "stdout",
     "output_type": "stream",
     "text": [
      "P\n",
      "Y\n",
      "T\n",
      "H\n",
      "O\n",
      "N\n"
     ]
    }
   ],
   "source": [
    "a = \"PYTHON\"\n",
    "for i in a:\n",
    "    print(i)"
   ]
  },
  {
   "cell_type": "code",
   "execution_count": 3,
   "id": "12492850",
   "metadata": {},
   "outputs": [
    {
     "name": "stdout",
     "output_type": "stream",
     "text": [
      "P Y T H O N "
     ]
    }
   ],
   "source": [
    "a = \"PYTHON\"\n",
    "for i in a:\n",
    "    if i !=\" \":\n",
    "        print(i, end = \" \")"
   ]
  },
  {
   "cell_type": "code",
   "execution_count": 6,
   "id": "581cc6ee",
   "metadata": {},
   "outputs": [
    {
     "name": "stdout",
     "output_type": "stream",
     "text": [
      "PYTHONisaprogram"
     ]
    }
   ],
   "source": [
    "a = \"PYTHON is a program\"\n",
    "for i in a:\n",
    "    if i !=\" \":\n",
    "        print(i, end = \"\")"
   ]
  },
  {
   "cell_type": "code",
   "execution_count": 7,
   "id": "468879d1",
   "metadata": {},
   "outputs": [
    {
     "name": "stdout",
     "output_type": "stream",
     "text": [
      "PYTHONisaprogram"
     ]
    }
   ],
   "source": [
    "a = \"PYTHON is a program.\"\n",
    "for i in a:\n",
    "    if i !=\" \" and i !='.':\n",
    "        print(i, end = \"\")"
   ]
  },
  {
   "cell_type": "code",
   "execution_count": null,
   "id": "4ec07301",
   "metadata": {},
   "outputs": [],
   "source": []
  }
 ],
 "metadata": {
  "kernelspec": {
   "display_name": "Python 3 (ipykernel)",
   "language": "python",
   "name": "python3"
  },
  "language_info": {
   "codemirror_mode": {
    "name": "ipython",
    "version": 3
   },
   "file_extension": ".py",
   "mimetype": "text/x-python",
   "name": "python",
   "nbconvert_exporter": "python",
   "pygments_lexer": "ipython3",
   "version": "3.9.12"
  }
 },
 "nbformat": 4,
 "nbformat_minor": 5
}
