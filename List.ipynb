{
 "cells": [
  {
   "cell_type": "code",
   "execution_count": 1,
   "id": "78541e01",
   "metadata": {},
   "outputs": [],
   "source": [
    "# append() insert() extend()"
   ]
  },
  {
   "cell_type": "code",
   "execution_count": 2,
   "id": "667a78e1",
   "metadata": {},
   "outputs": [
    {
     "name": "stdout",
     "output_type": "stream",
     "text": [
      "['App', 'Bom']\n"
     ]
    }
   ],
   "source": [
    "a = []\n",
    "a.append('App')\n",
    "a.append('Bom')\n",
    "\n",
    "print(a)"
   ]
  },
  {
   "cell_type": "code",
   "execution_count": 2,
   "id": "62db63c6",
   "metadata": {},
   "outputs": [
    {
     "name": "stdout",
     "output_type": "stream",
     "text": [
      "Enter the value of n = 3\n",
      "Enter the value of x = qwqert\n",
      "Enter the value of x = jhgfds\n",
      "Enter the value of x = rtg\n",
      "['qwqert', 'jhgfds', 'rtg']\n"
     ]
    }
   ],
   "source": [
    "a = []\n",
    "n = int(input(\"Enter the value of n = \"))\n",
    "for i in range(n):\n",
    "    x = input(\"Enter the value of x = \")\n",
    "    a.append(x)\n",
    "    \n",
    "print(a)"
   ]
  },
  {
   "cell_type": "code",
   "execution_count": 3,
   "id": "bdafab49",
   "metadata": {},
   "outputs": [
    {
     "name": "stdout",
     "output_type": "stream",
     "text": [
      "['App', 'ANT', 'Bom', 'Cao']\n"
     ]
    }
   ],
   "source": [
    "a = ['App', 'Bom', 'Cao']\n",
    "a.insert(1,'ANT')\n",
    "print(a)"
   ]
  },
  {
   "cell_type": "code",
   "execution_count": 4,
   "id": "81f12027",
   "metadata": {},
   "outputs": [
    {
     "name": "stdout",
     "output_type": "stream",
     "text": [
      "['App', 'Bom', 'Cao', 'Don', 'Fin']\n"
     ]
    }
   ],
   "source": [
    "a = ['App', 'Bom', 'Cao']\n",
    "b = ['Don', 'Fin']\n",
    "a.extend(b)\n",
    "print(a)"
   ]
  },
  {
   "cell_type": "code",
   "execution_count": 6,
   "id": "dbd334c8",
   "metadata": {},
   "outputs": [
    {
     "data": {
      "text/plain": [
       "['Anj', 'bon', 'con', 'don']"
      ]
     },
     "execution_count": 6,
     "metadata": {},
     "output_type": "execute_result"
    }
   ],
   "source": [
    "#CRUD       ==           #c=create, r=read, u=update, d=delete\n",
    "#Update\n",
    "a = ['aon','bon','con','don']\n",
    "a[0] = 'Anj'\n",
    "a"
   ]
  },
  {
   "cell_type": "code",
   "execution_count": 8,
   "id": "62e6356c",
   "metadata": {},
   "outputs": [
    {
     "name": "stdout",
     "output_type": "stream",
     "text": [
      "['bon', 'con', 'don']\n"
     ]
    }
   ],
   "source": [
    "# #Deletea = ['App', 'Bom', 'Cao']\n",
    "# del remove() pop()\n",
    "a = ['aon','bon','con','don']\n",
    "del a[0]\n",
    "print(a)"
   ]
  },
  {
   "cell_type": "code",
   "execution_count": 2,
   "id": "90f80f16",
   "metadata": {},
   "outputs": [
    {
     "name": "stdout",
     "output_type": "stream",
     "text": [
      "['Fon']\n"
     ]
    }
   ],
   "source": [
    "a = ['aon','bon','con','don','Fon']\n",
    "del a[0:4]\n",
    "print(a)"
   ]
  },
  {
   "cell_type": "code",
   "execution_count": 4,
   "id": "b2e12b60",
   "metadata": {},
   "outputs": [
    {
     "data": {
      "text/plain": [
       "['bon', 'con', 'don', 'Fon']"
      ]
     },
     "execution_count": 4,
     "metadata": {},
     "output_type": "execute_result"
    }
   ],
   "source": [
    "a = ['aon','bon','con','don','Fon']\n",
    "a.remove('aon')\n",
    "a"
   ]
  },
  {
   "cell_type": "code",
   "execution_count": 7,
   "id": "5d0e50df",
   "metadata": {},
   "outputs": [
    {
     "name": "stdout",
     "output_type": "stream",
     "text": [
      "['bon', 'con', 'don', 'Fon', 'aon']\n",
      "['bon', 'con', 'don', 'Fon']\n"
     ]
    }
   ],
   "source": [
    "a = ['aon','bon','con','don','Fon','aon']\n",
    "c = a.count('aon')\n",
    "for i in range(c):\n",
    "    a.remove('aon')\n",
    "    print(a)"
   ]
  },
  {
   "cell_type": "code",
   "execution_count": 8,
   "id": "1c6071c9",
   "metadata": {},
   "outputs": [
    {
     "name": "stdout",
     "output_type": "stream",
     "text": [
      "0\n",
      "5\n"
     ]
    }
   ],
   "source": [
    "#to know the index of the list number.\n",
    "a = ['aon','bon','con','don','Fon','aon']\n",
    "\n",
    "for i in range(len(a)):\n",
    "    if a[i] == 'aon':\n",
    "        print(i)"
   ]
  },
  {
   "cell_type": "code",
   "execution_count": 9,
   "id": "1f20628d",
   "metadata": {},
   "outputs": [
    {
     "data": {
      "text/plain": [
       "['aon', 'bon', 'con', 'don', 'Fon']"
      ]
     },
     "execution_count": 9,
     "metadata": {},
     "output_type": "execute_result"
    }
   ],
   "source": [
    "a = ['aon','bon','con','don','Fon','aon']\n",
    "a.pop()\n",
    "a"
   ]
  },
  {
   "cell_type": "code",
   "execution_count": 11,
   "id": "b5eea501",
   "metadata": {},
   "outputs": [
    {
     "name": "stdout",
     "output_type": "stream",
     "text": [
      "con\n"
     ]
    }
   ],
   "source": [
    "a = ['aon','bon','con','don','Fon','aon']\n",
    "b = a.pop(2)\n",
    "print(b)"
   ]
  },
  {
   "cell_type": "code",
   "execution_count": 13,
   "id": "9abf85ad",
   "metadata": {},
   "outputs": [
    {
     "name": "stdout",
     "output_type": "stream",
     "text": [
      "Apple 3 200\n",
      "Banana 2 300\n"
     ]
    }
   ],
   "source": [
    "a = \"Apple 3 200\\nBanana 2 300\"\n",
    "print(a)"
   ]
  },
  {
   "cell_type": "code",
   "execution_count": 14,
   "id": "5f8d330c",
   "metadata": {},
   "outputs": [
    {
     "data": {
      "text/plain": [
       "['Apple 3 200', 'Banana 2 300']"
      ]
     },
     "execution_count": 14,
     "metadata": {},
     "output_type": "execute_result"
    }
   ],
   "source": [
    "x = a.split('\\n')\n",
    "x"
   ]
  },
  {
   "cell_type": "code",
   "execution_count": 15,
   "id": "71ed25b7",
   "metadata": {},
   "outputs": [
    {
     "name": "stdout",
     "output_type": "stream",
     "text": [
      "[[1, 2, 3], [4, 5, 6], [7, 8, 9]]\n",
      "<class 'list'>\n",
      "3\n"
     ]
    }
   ],
   "source": [
    "# List inside list\n",
    "a = [[1,2,3],\n",
    "     [4,5,6],\n",
    "     [7,8,9]]\n",
    "print(a)\n",
    "print(type(a))\n",
    "print(len(a))"
   ]
  },
  {
   "cell_type": "code",
   "execution_count": 17,
   "id": "698d9c03",
   "metadata": {},
   "outputs": [
    {
     "name": "stdout",
     "output_type": "stream",
     "text": [
      "[['Deepak', 80, 'ktm'], ['Gyabhu', 9, 'nak'], ['Nobel', 12, 'kamsa']]\n"
     ]
    }
   ],
   "source": [
    "info = [['Deepak',80,'ktm'],\n",
    "       ['Gyabhu',9,'nak'],\n",
    "       ['Nobel',12,'kamsa']]\n",
    "print(info)"
   ]
  },
  {
   "cell_type": "code",
   "execution_count": 25,
   "id": "4268583f",
   "metadata": {},
   "outputs": [
    {
     "name": "stdout",
     "output_type": "stream",
     "text": [
      "['Apple 3 200 3003', 'Banana 2 300 4003']\n"
     ]
    }
   ],
   "source": [
    "data = []\n",
    "a = \"Apple 3 200 3003\\nBanana 2 300 4003\"\n",
    "print(a.split('\\n'))"
   ]
  },
  {
   "cell_type": "code",
   "execution_count": 31,
   "id": "57a7fd4f",
   "metadata": {},
   "outputs": [
    {
     "name": "stdout",
     "output_type": "stream",
     "text": [
      "['Apple 3 200 3003', 'Banana 2 300 4003']\n"
     ]
    },
    {
     "data": {
      "text/plain": [
       "['Apple', '3', '200', '3003']"
      ]
     },
     "execution_count": 31,
     "metadata": {},
     "output_type": "execute_result"
    }
   ],
   "source": [
    "data = []\n",
    "a = \"Apple 3 200 3003\\nBanana 2 300 4003\"\n",
    "b = a.split('\\n')\n",
    "print(b)\n",
    "b[0].split()"
   ]
  },
  {
   "cell_type": "code",
   "execution_count": 27,
   "id": "3ae7c0a2",
   "metadata": {},
   "outputs": [
    {
     "data": {
      "text/plain": [
       "[['Apple', '3', '200', '3003'], ['Banana', '2', '300', '4003']]"
      ]
     },
     "execution_count": 27,
     "metadata": {},
     "output_type": "execute_result"
    }
   ],
   "source": [
    "data = []\n",
    "a = \"Apple 3 200 3003\\nBanana 2 300 4003\"\n",
    "x = a.split('\\n')\n",
    "for i in x:\n",
    "    y = i.split()\n",
    "    data.append(y)\n",
    "data"
   ]
  },
  {
   "cell_type": "code",
   "execution_count": 11,
   "id": "391a8abc",
   "metadata": {},
   "outputs": [
    {
     "name": "stdout",
     "output_type": "stream",
     "text": [
      "              Searching Item.....              \n",
      "Enter number of product = 2\n",
      "Enter product name = milk\n",
      "Enter quantity = 2\n",
      "Enter price = 90\n",
      "Enter product name = choco\n",
      "Enter quantity = 2\n",
      "Enter price = 900\n",
      "[['milk', '2', '90', '180'], ['choco', '2', '900', '1800']]\n"
     ]
    }
   ],
   "source": [
    "# WAP to create a billing system using list inside list. \n",
    "\n",
    "print(\"              Searching Item.....              \")\n",
    "bill = []\n",
    "no_of_product = int(input(\"Enter number of product = \"))\n",
    "for i in range(no_of_product):\n",
    "    product = input(\"Enter product name = \")\n",
    "    quantity = int(input(\"Enter quantity = \"))\n",
    "    price = int(input(\"Enter price = \"))\n",
    "    total = price*quantity\n",
    "    x = f\"{product} {quantity} {price} {total}\"\n",
    "    x = x.split()\n",
    "    bill.append(x)\n",
    "\n",
    "print(bill)\n"
   ]
  },
  {
   "cell_type": "code",
   "execution_count": 10,
   "id": "f7039d9d",
   "metadata": {},
   "outputs": [
    {
     "name": "stdout",
     "output_type": "stream",
     "text": [
      "enter number of items:2\n",
      "enter name:qwe\n",
      "enter qty:2\n",
      "enter price:1\n",
      "enter name:bdfgd\n",
      "enter qty:2\n",
      "enter price:2\n",
      "[['qwe', 2, 1, 2], ['bdfgd', 2, 2, 4]]\n"
     ]
    }
   ],
   "source": [
    "#WAP to create a billing system using list inside list\n",
    "data=[]\n",
    "items=int(input(\"enter number of items:\"))\n",
    "for i in range(items):\n",
    "    product=input(\"enter name:\")\n",
    "    qty=int(input(\"enter qty:\"))\n",
    "    price=int(input(\"enter price:\"))\n",
    "    total=qty*price\n",
    "    x=[product,qty,price,total]\n",
    "    data.append(x)\n",
    "        \n",
    "print(data)\n"
   ]
  },
  {
   "cell_type": "code",
   "execution_count": 12,
   "id": "7c4a6377",
   "metadata": {},
   "outputs": [
    {
     "name": "stdout",
     "output_type": "stream",
     "text": [
      "['deepak', 32, 'ktm']\n"
     ]
    }
   ],
   "source": [
    "#how to create list\n",
    "a = [['deepak', 32, 'ktm'],\n",
    "     ['gabs', 9, 'nakk'],\n",
    "    ['noob', 10, 'lal']]\n",
    "for i in a:\n",
    "    if 'deepak' in i:\n",
    "        print(i)"
   ]
  },
  {
   "cell_type": "code",
   "execution_count": 17,
   "id": "d2a71de2",
   "metadata": {},
   "outputs": [
    {
     "name": "stdout",
     "output_type": "stream",
     "text": [
      "                find your GFFFFFF...........                 \n",
      "Enter name = noob\n",
      "['noob', 10, 'grace']\n"
     ]
    }
   ],
   "source": [
    "print('                find your GFFFFFF...........                 ')\n",
    "a = [['deepak', 32, 'gangs'],\n",
    "     ['gabs', 9, 'nikk'],\n",
    "    ['noob', 10, 'grace']]\n",
    "name = input(\"Enter name = \")\n",
    "for i in a:\n",
    "    if name in i:\n",
    "        print(i)"
   ]
  },
  {
   "cell_type": "code",
   "execution_count": 22,
   "id": "22a6f828",
   "metadata": {},
   "outputs": [
    {
     "data": {
      "text/plain": [
       "'grace'"
      ]
     },
     "execution_count": 22,
     "metadata": {},
     "output_type": "execute_result"
    }
   ],
   "source": [
    "a = [['deepak', 32, 'gangs'],              #a[0]\n",
    "     ['gabs', 9, 'nikk'],                   #a[1]\n",
    "    ['noob', 10, 'grace']]                   #a[2]\n",
    "a[2][2]"
   ]
  },
  {
   "cell_type": "code",
   "execution_count": 25,
   "id": "69c7ebcb",
   "metadata": {},
   "outputs": [
    {
     "data": {
      "text/plain": [
       "[['deepak', '32', 'gangs'], ['gabs', 9, 'nikk'], ['noob', 10, 'grace']]"
      ]
     },
     "execution_count": 25,
     "metadata": {},
     "output_type": "execute_result"
    }
   ],
   "source": [
    "# Update\n",
    "a = [['nvhj', 23, 'lkhjh'],             \n",
    "     ['gabs', 9, 'nikk'],                  \n",
    "    ['noob', 10, 'grace']] \n",
    "a[0] = ['deepak', '32', 'gangs']\n",
    "a"
   ]
  },
  {
   "cell_type": "code",
   "execution_count": 26,
   "id": "ab7ff1c6",
   "metadata": {},
   "outputs": [
    {
     "data": {
      "text/plain": [
       "[['deepak', 23, 'lkhjh'], ['gabs', 9, 'nikk'], ['noob', 10, 'grace']]"
      ]
     },
     "execution_count": 26,
     "metadata": {},
     "output_type": "execute_result"
    }
   ],
   "source": [
    "# Update\n",
    "a = [['nvhj', 23, 'lkhjh'],             \n",
    "     ['gabs', 9, 'nikk'],                  \n",
    "    ['noob', 10, 'grace']] \n",
    "a[0] [0] = 'deepak' \n",
    "a"
   ]
  },
  {
   "cell_type": "code",
   "execution_count": 27,
   "id": "e7572f70",
   "metadata": {},
   "outputs": [
    {
     "name": "stdout",
     "output_type": "stream",
     "text": [
      "Enter name = deepak\n",
      "[['gabs', 9, 'nikk'], ['noob', 10, 'grace']]\n"
     ]
    }
   ],
   "source": [
    "a = [['deepak', 23, 'ktm'],             \n",
    "     ['gabs', 9, 'nikk'],                  \n",
    "    ['noob', 10, 'grace'],\n",
    "    ['deepak', 32, 'asdd']]\n",
    "name = input(\"Enter name = \")\n",
    "for i in a:\n",
    "    if name in i:\n",
    "        a.remove(i)\n",
    "        \n",
    "print(a)"
   ]
  },
  {
   "cell_type": "code",
   "execution_count": 30,
   "id": "3283dd88",
   "metadata": {},
   "outputs": [
    {
     "name": "stdout",
     "output_type": "stream",
     "text": [
      "Enter row = 2\n",
      "Enter column = 2\n",
      "Enter x = 2\n",
      "Enter x = 4\n",
      "Enter x = 7\n",
      "Enter x = 5\n",
      "[[2, 4], [7, 5]]\n"
     ]
    }
   ],
   "source": [
    "# m = [[1,2,3],\n",
    "#        [4,5,6],\n",
    "#        [7,8,9]]\n",
    "# WAP to create a matrix\n",
    "m = []\n",
    "r = int(input(\"Enter row = \"))\n",
    "c = int(input(\"Enter column = \"))\n",
    "for i in range(r):\n",
    "    y = []\n",
    "    for j in range(c):\n",
    "        x = int(input(\"Enter x = \"))\n",
    "        y.append(x)\n",
    "    m.append(y)\n",
    "print(m)"
   ]
  },
  {
   "cell_type": "markdown",
   "id": "12066555",
   "metadata": {},
   "source": []
  }
 ],
 "metadata": {
  "kernelspec": {
   "display_name": "Python 3 (ipykernel)",
   "language": "python",
   "name": "python3"
  },
  "language_info": {
   "codemirror_mode": {
    "name": "ipython",
    "version": 3
   },
   "file_extension": ".py",
   "mimetype": "text/x-python",
   "name": "python",
   "nbconvert_exporter": "python",
   "pygments_lexer": "ipython3",
   "version": "3.9.12"
  }
 },
 "nbformat": 4,
 "nbformat_minor": 5
}
