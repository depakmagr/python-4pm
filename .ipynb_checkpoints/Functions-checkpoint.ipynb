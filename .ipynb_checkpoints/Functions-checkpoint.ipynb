{
 "cells": [
  {
   "cell_type": "code",
   "execution_count": 2,
   "id": "cb250f5e",
   "metadata": {},
   "outputs": [],
   "source": [
    "# def <function_name>():            #defining function\n",
    "#     <operation>\n",
    "    \n",
    "# function_name()                   #calling the function"
   ]
  },
  {
   "cell_type": "code",
   "execution_count": null,
   "id": "0a0c2891",
   "metadata": {},
   "outputs": [],
   "source": [
    "#predefine function\n",
    "print() type() input() int() str() float()"
   ]
  },
  {
   "cell_type": "code",
   "execution_count": 3,
   "id": "901fbbc7",
   "metadata": {},
   "outputs": [
    {
     "name": "stdout",
     "output_type": "stream",
     "text": [
      "Hello World\n"
     ]
    }
   ],
   "source": [
    "def hello():\n",
    "    print(\"Hello World\")\n",
    "    \n",
    "    \n",
    "hello()"
   ]
  },
  {
   "cell_type": "code",
   "execution_count": 4,
   "id": "095fcd9d",
   "metadata": {},
   "outputs": [
    {
     "name": "stdout",
     "output_type": "stream",
     "text": [
      "Enter p = 1200\n",
      "Enter t = 2\n",
      "Enter r = 3\n",
      "72.0\n"
     ]
    }
   ],
   "source": [
    "def cal():\n",
    "    p = int(input(\"Enter p = \"))              # Local variable\n",
    "    t = float(input(\"Enter t = \"))            # Local variable\n",
    "    r = float(input(\"Enter r = \"))            # Local variable\n",
    "    i = p*t*r/100                             # Local variable\n",
    "    print(i)\n",
    "\n",
    "cal()"
   ]
  },
  {
   "cell_type": "code",
   "execution_count": 5,
   "id": "7c55080c",
   "metadata": {},
   "outputs": [
    {
     "name": "stdout",
     "output_type": "stream",
     "text": [
      "Enter p = 3000\n",
      "Enter t = 5\n",
      "Enter r = 10\n",
      "1500.0\n"
     ]
    }
   ],
   "source": [
    "p = int(input(\"Enter p = \"))              # Global variable\n",
    "t = float(input(\"Enter t = \"))            # Global variable\n",
    "r = float(input(\"Enter r = \"))            # Global3000 variable\n",
    "def cal():\n",
    "    i = p*t*r/100                            #local variable\n",
    "    print(i)\n",
    "    \n",
    "cal()"
   ]
  },
  {
   "cell_type": "code",
   "execution_count": 9,
   "id": "471cedcf",
   "metadata": {},
   "outputs": [],
   "source": [
    "#function with argument and non return type\n",
    "#function without argument and non return type\n",
    "#function without argument and non return type\n",
    "#function with argument and non return type"
   ]
  },
  {
   "cell_type": "code",
   "execution_count": 8,
   "id": "0d377b2d",
   "metadata": {},
   "outputs": [
    {
     "name": "stdout",
     "output_type": "stream",
     "text": [
      "Enter p = 23323\n",
      "Enter t = 3\n",
      "Enter r = 15\n",
      "10495.35\n"
     ]
    }
   ],
   "source": [
    "#function without argument and non return type\n",
    "def cal():\n",
    "    p = int(input(\"Enter p = \"))              # Local variable\n",
    "    t = float(input(\"Enter t = \"))            # Local variable\n",
    "    r = float(input(\"Enter r = \"))            # Local variable\n",
    "    i = p*t*r/100                             # Local variable\n",
    "    print(i)\n",
    "    \n",
    "cal()    "
   ]
  },
  {
   "cell_type": "code",
   "execution_count": 10,
   "id": "2371eaca",
   "metadata": {},
   "outputs": [
    {
     "name": "stdout",
     "output_type": "stream",
     "text": [
      "area is =  20\n"
     ]
    }
   ],
   "source": [
    "#function with argument and non return type\n",
    "def area(l,b):                          #parameter\n",
    "    a = l * b\n",
    "    print(\"area is = \",a)\n",
    "    \n",
    "area(10,2)                              #argument"
   ]
  },
  {
   "cell_type": "markdown",
   "id": "2f0a613c",
   "metadata": {},
   "source": []
  },
  {
   "cell_type": "code",
   "execution_count": 6,
   "id": "a2051fd6",
   "metadata": {},
   "outputs": [
    {
     "name": "stdout",
     "output_type": "stream",
     "text": [
      "Enter name = qwe\n",
      "Enter age = 1212\n",
      "Enter add= we\n",
      "Hello World I amqweI am fromaddI am1212\n"
     ]
    }
   ],
   "source": [
    "def info(name,age,address):\n",
    "    data = \"Hello World I am\" +name+ \"I am from\"+\"add\"+\"I am\"+str(age)\n",
    "    print(data)\n",
    "name = input(\"Enter name = \")\n",
    "age = int(input(\"Enter age = \"))\n",
    "address = input(\"Enter add= \")\n",
    "\n",
    "info(name,age,address)"
   ]
  },
  {
   "cell_type": "code",
   "execution_count": 3,
   "id": "01f3d435",
   "metadata": {},
   "outputs": [
    {
     "name": "stdout",
     "output_type": "stream",
     "text": [
      "Enter l = 12\n",
      "Enter b = 33\n",
      "Enter h = 2\n",
      "396\n",
      "792\n"
     ]
    }
   ],
   "source": [
    "def area(x,y):\n",
    "    a = x*y\n",
    "    print(a)\n",
    "def volume(x,y,z):\n",
    "    v = x*y*z\n",
    "    print(v)\n",
    "    \n",
    "l = int(input(\"Enter l = \"))\n",
    "b = int(input(\"Enter b = \"))\n",
    "h = int(input(\"Enter h = \"))\n",
    "area(l,b)\n",
    "volume(l,b,h)"
   ]
  },
  {
   "cell_type": "code",
   "execution_count": 8,
   "id": "0f5c1738",
   "metadata": {},
   "outputs": [
    {
     "name": "stdout",
     "output_type": "stream",
     "text": [
      "C\n",
      "C++\n",
      "java\n",
      "python\n",
      "python\n"
     ]
    }
   ],
   "source": [
    "def language(lan = \"python\"):\n",
    "    print(lan)\n",
    "\n",
    "language('C')\n",
    "language('C++')\n",
    "language('java')\n",
    "language()                   #default value\n",
    "language()                  #default value"
   ]
  },
  {
   "cell_type": "code",
   "execution_count": 14,
   "id": "cb75663c",
   "metadata": {},
   "outputs": [
    {
     "name": "stdout",
     "output_type": "stream",
     "text": [
      "Enter a = 1\n",
      "Enter b = 2\n",
      "The sum is 3\n",
      "The subtraction is -1\n",
      "The multiplication is 2\n",
      "The division is 0.5\n"
     ]
    }
   ],
   "source": [
    "# WAP to create a calculater suing function\n",
    "\n",
    "def addition(a,b):\n",
    "    c = a+b\n",
    "    print(\"The sum is \"+str(c))\n",
    "def subtraction(a,b):\n",
    "    c = a-b\n",
    "    print(\"The subtraction is \"+str(c))\n",
    "def multiplication(a,b):\n",
    "    c = a*b\n",
    "    print(\"The multiplication is \"+str(c))\n",
    "def division(a,b):\n",
    "    c = a/b\n",
    "    print(\"The division is \"+str(c))\n",
    "    \n",
    "a = int(input(\"Enter a = \"))\n",
    "b = int(input(\"Enter b = \"))\n",
    "\n",
    "addition(a,b)\n",
    "subtraction(a,b)\n",
    "multiplication(a,b)\n",
    "division(a,b)\n"
   ]
  },
  {
   "cell_type": "code",
   "execution_count": null,
   "id": "d649b8df",
   "metadata": {},
   "outputs": [],
   "source": []
  }
 ],
 "metadata": {
  "kernelspec": {
   "display_name": "Python 3 (ipykernel)",
   "language": "python",
   "name": "python3"
  },
  "language_info": {
   "codemirror_mode": {
    "name": "ipython",
    "version": 3
   },
   "file_extension": ".py",
   "mimetype": "text/x-python",
   "name": "python",
   "nbconvert_exporter": "python",
   "pygments_lexer": "ipython3",
   "version": "3.9.12"
  }
 },
 "nbformat": 4,
 "nbformat_minor": 5
}
