{
 "cells": [
  {
   "cell_type": "code",
   "execution_count": 2,
   "id": "0fee76ae",
   "metadata": {},
   "outputs": [],
   "source": [
    "class A:\n",
    "    pass\n",
    "\n",
    "class B(A):\n",
    "    pass\n",
    "\n",
    "obj = B()                                 #through obj class A will be initialize."
   ]
  },
  {
   "cell_type": "code",
   "execution_count": 11,
   "id": "24bd0a72",
   "metadata": {},
   "outputs": [
    {
     "name": "stdout",
     "output_type": "stream",
     "text": [
      "Hello guys!! I am Gangs. I am from KTM. I am 32 years old.\n"
     ]
    }
   ],
   "source": [
    "class Info:                                           #parent class\n",
    "    def __init__(this):                                #we can initilization through class.\n",
    "        this.name = \"Gangs\"\n",
    "        this.age = 32\n",
    "        this.add = \"KTM\"\n",
    "        \n",
    "class Data(Info):                                      #child class\n",
    "    def data(self):\n",
    "        print(f\"Hello guys!! I am {self.name}. I am from {self.add}. I am {self.age} years old.\")\n",
    "\n",
    "obj = Data()\n",
    "obj.data()"
   ]
  },
  {
   "cell_type": "code",
   "execution_count": 8,
   "id": "09b7c3fe",
   "metadata": {},
   "outputs": [
    {
     "name": "stdout",
     "output_type": "stream",
     "text": [
      "Hello guys!! I am Deps. I am from KTM. I am 32 years old.\n"
     ]
    }
   ],
   "source": [
    "class Info:                                                #parent class\n",
    "    def __init__(this,name,age,add):\n",
    "        this.name = name\n",
    "        this.age = age\n",
    "        this.add = add\n",
    "        \n",
    "class Data(Info):                                          #child class\n",
    "    def data(self):\n",
    "        print(f\"Hello guys!! I am {self.name}. I am from {self.add}. I am {self.age} years old.\")\n",
    "\n",
    "obj = Data(\"Deps\",32,\"KTM\")                                     #we can initilization through object.\n",
    "obj.data()"
   ]
  },
  {
   "cell_type": "code",
   "execution_count": 5,
   "id": "b3520552",
   "metadata": {},
   "outputs": [
    {
     "name": "stdout",
     "output_type": "stream",
     "text": [
      "Hello guys!! I am Deps. I am from KTM. I am 32 years old.\n"
     ]
    }
   ],
   "source": [
    "class Info:                                                #parent class\n",
    "    def __init__(self,add):\n",
    "        self.add = add\n",
    "\n",
    "class Data(Info):                                           #child class\n",
    "    def __init__(self,name,age,add):\n",
    "        self.name = name\n",
    "        self.age = age\n",
    "        Info.__init__(self,add)\n",
    "                                                 \n",
    "    def data(self):\n",
    "        print(f\"Hello guys!! I am {self.name}. I am from {self.add}. I am {self.age} years old.\")\n",
    "\n",
    "obj = Data(\"Deps\",32,\"KTM\")                                     #we can initilization through object.\n",
    "obj.data()"
   ]
  },
  {
   "cell_type": "code",
   "execution_count": 15,
   "id": "ebce96df",
   "metadata": {},
   "outputs": [
    {
     "ename": "TypeError",
     "evalue": "__init__() takes 2 positional arguments but 4 were given",
     "output_type": "error",
     "traceback": [
      "\u001b[1;31m---------------------------------------------------------------------------\u001b[0m",
      "\u001b[1;31mTypeError\u001b[0m                                 Traceback (most recent call last)",
      "Input \u001b[1;32mIn [15]\u001b[0m, in \u001b[0;36m<cell line: 18>\u001b[1;34m()\u001b[0m\n\u001b[0;32m     15\u001b[0m     \u001b[38;5;28;01mdef\u001b[39;00m \u001b[38;5;21mdata\u001b[39m(\u001b[38;5;28mself\u001b[39m):\n\u001b[0;32m     16\u001b[0m         \u001b[38;5;28mprint\u001b[39m(\u001b[38;5;124mf\u001b[39m\u001b[38;5;124m\"\u001b[39m\u001b[38;5;124mHello guys!! I am \u001b[39m\u001b[38;5;132;01m{\u001b[39;00m\u001b[38;5;28mself\u001b[39m\u001b[38;5;241m.\u001b[39mname\u001b[38;5;132;01m}\u001b[39;00m\u001b[38;5;124m. I am from \u001b[39m\u001b[38;5;132;01m{\u001b[39;00m\u001b[38;5;28mself\u001b[39m\u001b[38;5;241m.\u001b[39madd\u001b[38;5;132;01m}\u001b[39;00m\u001b[38;5;124m. I am \u001b[39m\u001b[38;5;132;01m{\u001b[39;00m\u001b[38;5;28mself\u001b[39m\u001b[38;5;241m.\u001b[39mage\u001b[38;5;132;01m}\u001b[39;00m\u001b[38;5;124m years old.\u001b[39m\u001b[38;5;124m\"\u001b[39m)\n\u001b[1;32m---> 18\u001b[0m obj \u001b[38;5;241m=\u001b[39m \u001b[43mData\u001b[49m\u001b[43m(\u001b[49m\u001b[38;5;124;43m\"\u001b[39;49m\u001b[38;5;124;43mDeps\u001b[39;49m\u001b[38;5;124;43m\"\u001b[39;49m\u001b[43m,\u001b[49m\u001b[38;5;241;43m32\u001b[39;49m\u001b[43m,\u001b[49m\u001b[38;5;124;43m\"\u001b[39;49m\u001b[38;5;124;43mKTM\u001b[39;49m\u001b[38;5;124;43m\"\u001b[39;49m\u001b[43m)\u001b[49m                                     \u001b[38;5;66;03m#we can initilization through object.\u001b[39;00m\n\u001b[0;32m     19\u001b[0m obj\u001b[38;5;241m.\u001b[39mdata()\n",
      "\u001b[1;31mTypeError\u001b[0m: __init__() takes 2 positional arguments but 4 were given"
     ]
    }
   ],
   "source": [
    "class Add:                                               #parent class\n",
    "    def __init__(self,add):\n",
    "        self.add = add\n",
    "\n",
    "class Age:                                           #child class\n",
    "    def __init__(self,age):\n",
    "        self.age = age\n",
    "        \n",
    "class Data(Add,Age):\n",
    "    def __init__(self,name,age,add):\n",
    "        self.name = name\n",
    "        Add.__init__(self)\n",
    "        Age.__init__(self)\n",
    "                                                 \n",
    "    def data(self):\n",
    "        print(f\"Hello guys!! I am {self.name}. I am from {self.add}. I am {self.age} years old.\")\n",
    "\n",
    "obj = Data(\"Deps\",32,\"KTM\")                                     #we can initilization through object.\n",
    "obj.data()"
   ]
  },
  {
   "cell_type": "code",
   "execution_count": 14,
   "id": "23c637a0",
   "metadata": {},
   "outputs": [
    {
     "name": "stdout",
     "output_type": "stream",
     "text": [
      "Enter name = Deepaks\n",
      "Enter add = KTM\n",
      "Enter age = 322\n",
      "Hello guys!! I am Deepaks. I am from KTM. I am 322 years old.\n"
     ]
    }
   ],
   "source": [
    "class Add:                                               #parent class\n",
    "    def __init__(self):\n",
    "        self.add = input(\"Enter add = \")\n",
    "\n",
    "class Age:                                           #child class\n",
    "    def __init__(self):\n",
    "        self.age = int(input(\"Enter age = \"))\n",
    "        \n",
    "class Data(Add,Age):\n",
    "    def __init__(self):\n",
    "        self.name = input('Enter name = ')\n",
    "        Add.__init__(self)\n",
    "        Age.__init__(self)\n",
    "                                                 \n",
    "    def data(self):\n",
    "        print(f\"Hello guys!! I am {self.name}. I am from {self.add}. I am {self.age} years old.\")\n",
    "\n",
    "obj = Data()                                     #we can initilization through object.\n",
    "obj.data()"
   ]
  },
  {
   "cell_type": "code",
   "execution_count": 25,
   "id": "15cec7d0",
   "metadata": {},
   "outputs": [],
   "source": [
    "class A:\n",
    "    pass\n",
    "class B(A):\n",
    "    pass\n",
    "class C(B):\n",
    "    pass\n",
    "\n",
    "obj = C()"
   ]
  },
  {
   "cell_type": "code",
   "execution_count": 1,
   "id": "5b1e5f67",
   "metadata": {},
   "outputs": [
    {
     "ename": "TypeError",
     "evalue": "__init__() missing 1 required positional argument: 'add'",
     "output_type": "error",
     "traceback": [
      "\u001b[1;31m---------------------------------------------------------------------------\u001b[0m",
      "\u001b[1;31mTypeError\u001b[0m                                 Traceback (most recent call last)",
      "Input \u001b[1;32mIn [1]\u001b[0m, in \u001b[0;36m<cell line: 18>\u001b[1;34m()\u001b[0m\n\u001b[0;32m     15\u001b[0m     \u001b[38;5;28;01mdef\u001b[39;00m \u001b[38;5;21mdata\u001b[39m(\u001b[38;5;28mself\u001b[39m):\n\u001b[0;32m     16\u001b[0m         \u001b[38;5;28mprint\u001b[39m(\u001b[38;5;124mf\u001b[39m\u001b[38;5;124m\"\u001b[39m\u001b[38;5;124mHello guys!! I am \u001b[39m\u001b[38;5;132;01m{\u001b[39;00m\u001b[38;5;28mself\u001b[39m\u001b[38;5;241m.\u001b[39mname\u001b[38;5;132;01m}\u001b[39;00m\u001b[38;5;124m. I am from \u001b[39m\u001b[38;5;132;01m{\u001b[39;00m\u001b[38;5;28mself\u001b[39m\u001b[38;5;241m.\u001b[39madd\u001b[38;5;132;01m}\u001b[39;00m\u001b[38;5;124m. I am \u001b[39m\u001b[38;5;132;01m{\u001b[39;00m\u001b[38;5;28mself\u001b[39m\u001b[38;5;241m.\u001b[39mage\u001b[38;5;132;01m}\u001b[39;00m\u001b[38;5;124m years old.\u001b[39m\u001b[38;5;124m\"\u001b[39m)\n\u001b[1;32m---> 18\u001b[0m obj \u001b[38;5;241m=\u001b[39m \u001b[43mData\u001b[49m\u001b[43m(\u001b[49m\u001b[38;5;124;43m\"\u001b[39;49m\u001b[38;5;124;43mDeeps\u001b[39;49m\u001b[38;5;124;43m\"\u001b[39;49m\u001b[43m,\u001b[49m\u001b[38;5;241;43m32\u001b[39;49m\u001b[43m,\u001b[49m\u001b[38;5;124;43m\"\u001b[39;49m\u001b[38;5;124;43mKTM\u001b[39;49m\u001b[38;5;124;43m\"\u001b[39;49m\u001b[43m)\u001b[49m                                     \u001b[38;5;66;03m#we can initilization through object.\u001b[39;00m\n\u001b[0;32m     19\u001b[0m obj\u001b[38;5;241m.\u001b[39mdata()\n",
      "Input \u001b[1;32mIn [1]\u001b[0m, in \u001b[0;36mData.__init__\u001b[1;34m(self, name, age, add)\u001b[0m\n\u001b[0;32m     11\u001b[0m \u001b[38;5;28;01mdef\u001b[39;00m \u001b[38;5;21m__init__\u001b[39m(\u001b[38;5;28mself\u001b[39m,name,age,add):\n\u001b[0;32m     12\u001b[0m     \u001b[38;5;28mself\u001b[39m\u001b[38;5;241m.\u001b[39mname \u001b[38;5;241m=\u001b[39m name\n\u001b[1;32m---> 13\u001b[0m     \u001b[43mAge\u001b[49m\u001b[38;5;241;43m.\u001b[39;49m\u001b[38;5;21;43m__init__\u001b[39;49m\u001b[43m(\u001b[49m\u001b[38;5;28;43mself\u001b[39;49m\u001b[43m,\u001b[49m\u001b[43mage\u001b[49m\u001b[43m,\u001b[49m\u001b[43madd\u001b[49m\u001b[43m)\u001b[49m\n",
      "\u001b[1;31mTypeError\u001b[0m: __init__() missing 1 required positional argument: 'add'"
     ]
    }
   ],
   "source": [
    "class Add:                                               #parent class\n",
    "    def __init__(self,add):\n",
    "        self.add = add\n",
    "\n",
    "class Age(Add):                                           #child class\n",
    "    def __init__(self,name,age,add):\n",
    "        self.age = age\n",
    "        Add,__init__(self,add)\n",
    "        \n",
    "class Data(Age):\n",
    "    def __init__(self,name,age,add):\n",
    "        self.name = name\n",
    "        Age.__init__(self,age,add)\n",
    "                                                 \n",
    "    def data(self):\n",
    "        print(f\"Hello guys!! I am {self.name}. I am from {self.add}. I am {self.age} years old.\")\n",
    "\n",
    "obj = Data(\"Deeps\",32,\"KTM\")                                     #we can initilization through object.\n",
    "obj.data()"
   ]
  },
  {
   "cell_type": "code",
   "execution_count": 2,
   "id": "ae0a379f",
   "metadata": {},
   "outputs": [
    {
     "name": "stdout",
     "output_type": "stream",
     "text": [
      "Deeps\n",
      "32\n",
      "KTM\n"
     ]
    }
   ],
   "source": [
    "#public Member\n",
    "class Info:\n",
    "    def __init__(self,name,age,add):\n",
    "        self.name = name\n",
    "        self.age = age\n",
    "        self.add = add\n",
    "        \n",
    "obj = Info(\"Deeps\",32,\"KTM\")\n",
    "\n",
    "print(obj.name)\n",
    "print(obj.age)\n",
    "print(obj.add)"
   ]
  },
  {
   "cell_type": "code",
   "execution_count": 4,
   "id": "572ba445",
   "metadata": {},
   "outputs": [
    {
     "name": "stdout",
     "output_type": "stream",
     "text": [
      "Deeps\n",
      "32\n",
      "KTM\n"
     ]
    }
   ],
   "source": [
    "#protected Member\n",
    "class Info:\n",
    "    def __init__(self,name,age,add):\n",
    "        self._name = name\n",
    "        self._age = age\n",
    "        self._add = add\n",
    "        \n",
    "obj = Info(\"Deeps\",32,\"KTM\")\n",
    "\n",
    "print(obj._name)\n",
    "print(obj._age)\n",
    "print(obj._add)"
   ]
  },
  {
   "cell_type": "code",
   "execution_count": 7,
   "id": "b89cb808",
   "metadata": {},
   "outputs": [
    {
     "name": "stdout",
     "output_type": "stream",
     "text": [
      "Deeps\n",
      "32\n",
      "KTM\n"
     ]
    }
   ],
   "source": [
    "#private Member\n",
    "class Info:\n",
    "    def __init__(self,name,age,add):\n",
    "        self.__name = name\n",
    "        self.__age = age\n",
    "        self.__add = add\n",
    "        \n",
    "obj = Info(\"Deeps\",32,\"KTM\")\n",
    "\n",
    "print(obj._Info__name)                                 #name membaling.\n",
    "print(obj._Info__age)\n",
    "print(obj._Info__add)"
   ]
  },
  {
   "cell_type": "code",
   "execution_count": 8,
   "id": "5e31ecfd",
   "metadata": {},
   "outputs": [
    {
     "name": "stdout",
     "output_type": "stream",
     "text": [
      "Hello guys!! I am Gangs. I am from KTM. I am 32 years old.\n"
     ]
    }
   ],
   "source": [
    "## this code is valid as private.\n",
    "class Info:                                           #parent class\n",
    "    def __init__(this):                                #we can initilization through class.\n",
    "        this.name = \"Gangs\"\n",
    "        this.age = 32\n",
    "        this.__add = \"KTM\"\n",
    "        \n",
    "class Data(Info):                                      #child class\n",
    "    def data(self):\n",
    "        print(f\"Hello guys!! I am {self.name}. I am from {self._Info__add}. I am {self.age} years old.\")\n",
    "\n",
    "obj = Data()\n",
    "obj.data()"
   ]
  },
  {
   "cell_type": "code",
   "execution_count": 9,
   "id": "81acd234",
   "metadata": {},
   "outputs": [
    {
     "name": "stdout",
     "output_type": "stream",
     "text": [
      "Hello guys!! I am Gangs. I am from KTM. I am 32 years old.\n"
     ]
    }
   ],
   "source": [
    "class Info:                                           #parent class\n",
    "    def __init__(this):                                #we can initilization through class.\n",
    "        this.name = \"Gangs\"\n",
    "        this.age = 32\n",
    "        this._add = \"KTM\"\n",
    "        \n",
    "class Data(Info):                                      #child class\n",
    "    def data(self):\n",
    "        print(f\"Hello guys!! I am {self.name}. I am from {self._add}. I am {self.age} years old.\")\n",
    "\n",
    "obj = Data()\n",
    "obj.data()"
   ]
  },
  {
   "cell_type": "code",
   "execution_count": 16,
   "id": "5c5de248",
   "metadata": {},
   "outputs": [
    {
     "name": "stdout",
     "output_type": "stream",
     "text": [
      "Hello guys!! I am Gangs. I am from KTM.\n",
      "Hello!! I am 32 years old.\n"
     ]
    }
   ],
   "source": [
    "class Info:                                           #parent class\n",
    "    def __init__(this):                                #we can initilization through class.\n",
    "        this.name = \"Gangs\"\n",
    "        this.__age = 32                                 #private\n",
    "        this._add = \"KTM\"                              #protected\n",
    "        \n",
    "    def my_age(self):\n",
    "        print(f\"Hello!! I am {self.__age} years old.\")\n",
    "\n",
    "class Data(Info):                                      #child class\n",
    "    def data(self):\n",
    "        print(f\"Hello guys!! I am {self.name}. I am from {self._add}.\")\n",
    "\n",
    "obj = Data()\n",
    "obj.data()\n",
    "obj.my_age()"
   ]
  },
  {
   "cell_type": "code",
   "execution_count": 17,
   "id": "8dcdf618",
   "metadata": {},
   "outputs": [
    {
     "name": "stdout",
     "output_type": "stream",
     "text": [
      "Hello guys!! I am Gangs. I am from KTM.\n",
      "Hello!! I am 32 years old.\n"
     ]
    }
   ],
   "source": [
    "class Info:                                           #parent class\n",
    "    def __init__(this):                                #we can initilization through class.\n",
    "        this.name = \"Gangs\"\n",
    "        this.__age = 32                                #private\n",
    "        this._add = \"KTM\"                               #protected\n",
    "        \n",
    "    def my_age(self):\n",
    "        print(f\"Hello!! I am {self.__age} years old.\")\n",
    "\n",
    "class Data(Info):                                      #child class\n",
    "    def data(self):\n",
    "        print(f\"Hello guys!! I am {self.name}. I am from {self._add}.\")\n",
    "        super().my_age()                                                                 #data class is inheritate to Info class so that super method helps to call the value.\n",
    "\n",
    "obj = Data()\n",
    "obj.data()\n",
    "#obj.my_age()"
   ]
  },
  {
   "cell_type": "code",
   "execution_count": 23,
   "id": "99feaa1d",
   "metadata": {},
   "outputs": [
    {
     "name": "stdout",
     "output_type": "stream",
     "text": [
      "Hello guys!! I am Gangs. I am from KTM. I am Hello!! I am 32 years old.\n"
     ]
    }
   ],
   "source": [
    "class Info:                                           #parent class\n",
    "    def __init__(this):                                #we can initilization through class.\n",
    "        this.name = \"Gangs\"\n",
    "        this.__age = 32                                #private\n",
    "        this._add = \"KTM\"                               #protected\n",
    "        \n",
    "    def my_age(self):\n",
    "        return f\"Hello!! I am {self.__age} years old.\"\n",
    "\n",
    "class Data(Info):                                      #child class\n",
    "    def data(self):\n",
    "        print(f\"Hello guys!! I am {self.name}. I am from {self._add}. I am {super().my_age()}\")\n",
    "    \n",
    "obj = Data()\n",
    "obj.data()\n",
    "#obj.my_age()"
   ]
  },
  {
   "cell_type": "code",
   "execution_count": 3,
   "id": "69fe9ea9",
   "metadata": {},
   "outputs": [
    {
     "name": "stdout",
     "output_type": "stream",
     "text": [
      "Parrot can fly.\n",
      "Penguin can't fly.\n"
     ]
    }
   ],
   "source": [
    "class Parrot:\n",
    "    def fly(self):\n",
    "        print(\"Parrot can fly.\")\n",
    "    \n",
    "    def swim(self):\n",
    "        print(\"Parrot can't swim.\")\n",
    "        \n",
    "class Penguin:\n",
    "    def fly(self):\n",
    "        print(\"Penguin can't fly.\")\n",
    "        \n",
    "    def swim(swim):\n",
    "        print(\"Penguin can swim.\")\n",
    "\n",
    "# Common interface\n",
    "def flying_test(bird):\n",
    "    bird.fly()\n",
    "    \n",
    "#instantiate objects\n",
    "blu = Parrot()\n",
    "peggy = Penguin()\n",
    "\n",
    "#passing the object\n",
    "flying_test(blu)\n",
    "flying_test(peggy)"
   ]
  },
  {
   "cell_type": "code",
   "execution_count": null,
   "id": "ff7107b2",
   "metadata": {},
   "outputs": [],
   "source": []
  }
 ],
 "metadata": {
  "kernelspec": {
   "display_name": "Python 3 (ipykernel)",
   "language": "python",
   "name": "python3"
  },
  "language_info": {
   "codemirror_mode": {
    "name": "ipython",
    "version": 3
   },
   "file_extension": ".py",
   "mimetype": "text/x-python",
   "name": "python",
   "nbconvert_exporter": "python",
   "pygments_lexer": "ipython3",
   "version": "3.9.12"
  }
 },
 "nbformat": 4,
 "nbformat_minor": 5
}
