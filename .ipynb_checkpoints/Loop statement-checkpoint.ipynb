{
 "cells": [
  {
   "cell_type": "code",
   "execution_count": 1,
   "id": "dbf62a01",
   "metadata": {},
   "outputs": [],
   "source": [
    "# loopp in python\n",
    "# for\n",
    "# while"
   ]
  },
  {
   "cell_type": "code",
   "execution_count": 3,
   "id": "051e31a8",
   "metadata": {},
   "outputs": [],
   "source": [
    "# for\n",
    "# range(5)  -> 0,1,2,3,4    for(i = 0; i < 5; i++)\n",
    "# range(1,5)  -> 1,2,3,4    for(i = 1;i < 5; i++)\n",
    "# range(1,5,2)-> 1,3    for(i = 1;i < 5; i=+2)"
   ]
  },
  {
   "cell_type": "code",
   "execution_count": 4,
   "id": "731293e6",
   "metadata": {},
   "outputs": [
    {
     "name": "stdout",
     "output_type": "stream",
     "text": [
      "0 hello world\n",
      "1 hello world\n",
      "2 hello world\n",
      "3 hello world\n",
      "4 hello world\n"
     ]
    }
   ],
   "source": [
    "for i in range(5):\n",
    "    print(i,\"hello world\")"
   ]
  },
  {
   "cell_type": "code",
   "execution_count": 5,
   "id": "eb183f9c",
   "metadata": {},
   "outputs": [
    {
     "name": "stdout",
     "output_type": "stream",
     "text": [
      "1 hello world\n",
      "2 hello world\n",
      "3 hello world\n",
      "4 hello world\n"
     ]
    }
   ],
   "source": [
    "for i in range(1,5):\n",
    "    print(i,\"hello world\")"
   ]
  },
  {
   "cell_type": "code",
   "execution_count": 6,
   "id": "553a23ed",
   "metadata": {},
   "outputs": [
    {
     "name": "stdout",
     "output_type": "stream",
     "text": [
      "1 hello world\n",
      "3 hello world\n"
     ]
    }
   ],
   "source": [
    "for i in range(1,5,2):\n",
    "    print(i,\"hello world\")"
   ]
  },
  {
   "cell_type": "code",
   "execution_count": 9,
   "id": "e179c9e7",
   "metadata": {},
   "outputs": [
    {
     "name": "stdout",
     "output_type": "stream",
     "text": [
      "Enter n = 8\n",
      "8\n",
      "16\n",
      "24\n",
      "32\n",
      "40\n",
      "48\n",
      "56\n",
      "64\n",
      "72\n",
      "80\n"
     ]
    }
   ],
   "source": [
    "n = int(input(\"Enter n = \"))\n",
    "for i in range(1,11):\n",
    "    print(n*i)"
   ]
  },
  {
   "cell_type": "code",
   "execution_count": 10,
   "id": "7b0fdb67",
   "metadata": {},
   "outputs": [
    {
     "name": "stdout",
     "output_type": "stream",
     "text": [
      "Enter n = 8\n",
      "8 * 1 = 8\n",
      "8 * 2 = 16\n",
      "8 * 3 = 24\n",
      "8 * 4 = 32\n",
      "8 * 5 = 40\n",
      "8 * 6 = 48\n",
      "8 * 7 = 56\n",
      "8 * 8 = 64\n",
      "8 * 9 = 72\n",
      "8 * 10 = 80\n"
     ]
    }
   ],
   "source": [
    "n = int(input(\"Enter n = \"))\n",
    "for i in range(1,11):\n",
    "    print(n,\"*\",i,\"=\",n*i)"
   ]
  },
  {
   "cell_type": "code",
   "execution_count": 13,
   "id": "ce649c61",
   "metadata": {},
   "outputs": [
    {
     "name": "stdout",
     "output_type": "stream",
     "text": [
      "Enter n = 3\n",
      "Enter x = 1\n",
      "1\n",
      "Enter x = 2\n",
      "3\n",
      "Enter x = 3\n",
      "6\n"
     ]
    }
   ],
   "source": [
    "s = 0\n",
    "n = int(input(\"Enter n = \"))\n",
    "for i in range(n):\n",
    "    x = int(input(\"Enter x = \"))\n",
    "    s = s+x\n",
    "    print(s)"
   ]
  },
  {
   "cell_type": "code",
   "execution_count": 20,
   "id": "3efa7713",
   "metadata": {},
   "outputs": [
    {
     "name": "stdout",
     "output_type": "stream",
     "text": [
      "Enter n = 3\n",
      "Enter name = Nobel Guuu\n",
      "Enter name = Deepak Don\n",
      "Enter name = GYabhu Hero\n",
      "Nobel Guuu\tDeepak Don\tGYabhu Hero\t\n"
     ]
    }
   ],
   "source": [
    "s = str()\n",
    "n = int(input(\"Enter n = \"))\n",
    "for i in range(n):\n",
    "    name = (input(\"Enter name = \"))\n",
    "    s = s+name+\"\\t\"\n",
    "print(s)"
   ]
  },
  {
   "cell_type": "code",
   "execution_count": 25,
   "id": "97089ccb",
   "metadata": {},
   "outputs": [
    {
     "name": "stdout",
     "output_type": "stream",
     "text": [
      "Enter n = 3\n",
      "Enter name = Nobel Guu\n",
      "Enter phone = 69\n",
      "Enter name = Deepak Don\n",
      "Enter phone = 80\n",
      "Enter name = Gyabhu Hero\n",
      "Enter phone = 09\n",
      "Nobel Guu 69\tDeepak Don 80\tGyabhu Hero 09\t\n"
     ]
    }
   ],
   "source": [
    "s = str()\n",
    "n = int(input(\"Enter n = \"))\n",
    "for i in range(n):\n",
    "    name = input(\"Enter name = \")\n",
    "    phone = input(\"Enter phone = \")\n",
    "    s = s+name+\" \"+phone+\"\\t\"\n",
    "print(s)"
   ]
  },
  {
   "cell_type": "code",
   "execution_count": 26,
   "id": "ed60aa54",
   "metadata": {},
   "outputs": [
    {
     "name": "stdout",
     "output_type": "stream",
     "text": [
      "Nobel Guu 69\tDeepak Don 80\tGyabhu Hero 09\t\n"
     ]
    }
   ],
   "source": [
    "print(s)"
   ]
  },
  {
   "cell_type": "code",
   "execution_count": 27,
   "id": "af27d306",
   "metadata": {},
   "outputs": [
    {
     "name": "stdout",
     "output_type": "stream",
     "text": [
      "Enter n = 5\n",
      "1\n",
      "2\n",
      "6\n",
      "24\n",
      "120\n"
     ]
    }
   ],
   "source": [
    "# 5! = 1*2*3*4*5\n",
    "fac = 1\n",
    "n = int(input(\"Enter n = \"))\n",
    "for i in range(1,n+1):\n",
    "    fac = fac*i\n",
    "    \n",
    "    print(fac)"
   ]
  },
  {
   "cell_type": "code",
   "execution_count": 9,
   "id": "e7b703b1",
   "metadata": {},
   "outputs": [
    {
     "name": "stdout",
     "output_type": "stream",
     "text": [
      "A billing system\n",
      "Enter how many types of product do you want to buy = 2\n",
      "Enter product name = chocolate \n",
      "Enter product quantity = 1\n",
      "Enter product price = 89\n",
      "Enter product name = 212\n",
      "Enter product quantity =  32\n",
      "Enter product price =  23\n",
      "The total price is =  736\n"
     ]
    }
   ],
   "source": [
    "#assignment\n",
    "#WAP to create a billing system\n",
    "print(\"A billing system\")\n",
    "total = 0\n",
    "no_of_product = int(input(\"Enter how many types of product do you want to buy = \"))\n",
    "for i in range(no_of_product):\n",
    "  product = input(\"Enter product name = \")\n",
    "  quantaty = int(input(\"Enter product quantity = \"))\n",
    "  price = int(input(\"Enter product price = \"))\n",
    "  total = quantaty * price\n",
    "print(\"The total price is = \", total)"
   ]
  },
  {
   "cell_type": "code",
   "execution_count": 19,
   "id": "3a4dfe2a",
   "metadata": {},
   "outputs": [
    {
     "name": "stdout",
     "output_type": "stream",
     "text": [
      "Billing System\n",
      "Enter the types of product = 2\n",
      "Name of the product =dsa\n",
      "Enter the quantity = 2\n",
      "Enter the price = 10\n",
      "Name of the product =fsad\n",
      "Enter the quantity = 1\n",
      "Enter the price = 10\n",
      "The total price is =  30\n"
     ]
    }
   ],
   "source": [
    "#assignment\n",
    "print(\"Billing System\")\n",
    "total = 0\n",
    "no_of_product = int(input(\"Enter the types of product = \"))\n",
    "for i in range(no_of_product):\n",
    "    product = input(\"Name of the product =\")\n",
    "    quantity = int(input(\"Enter the quantity = \"))\n",
    "    price = int(input(\"Enter the price = \"))\n",
    "    total = total+quantity * price\n",
    "print(\"The total price is = \",total)\n"
   ]
  },
  {
   "cell_type": "code",
   "execution_count": null,
   "id": "65db66fb",
   "metadata": {},
   "outputs": [],
   "source": []
  },
  {
   "cell_type": "code",
   "execution_count": null,
   "id": "d67fd5ff",
   "metadata": {},
   "outputs": [],
   "source": []
  }
 ],
 "metadata": {
  "kernelspec": {
   "display_name": "Python 3 (ipykernel)",
   "language": "python",
   "name": "python3"
  },
  "language_info": {
   "codemirror_mode": {
    "name": "ipython",
    "version": 3
   },
   "file_extension": ".py",
   "mimetype": "text/x-python",
   "name": "python",
   "nbconvert_exporter": "python",
   "pygments_lexer": "ipython3",
   "version": "3.9.12"
  }
 },
 "nbformat": 4,
 "nbformat_minor": 5
}
