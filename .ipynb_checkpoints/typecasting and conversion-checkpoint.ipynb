{
 "cells": [
  {
   "cell_type": "code",
   "execution_count": 1,
   "id": "3b3c5af3",
   "metadata": {},
   "outputs": [
    {
     "name": "stdout",
     "output_type": "stream",
     "text": [
      "10 10.5 Deepak True\n"
     ]
    }
   ],
   "source": [
    "a = 10\n",
    "b = 10.5\n",
    "c = \"Deepak\"\n",
    "d = True\n",
    "print(a,b,c,d)"
   ]
  },
  {
   "cell_type": "code",
   "execution_count": 2,
   "id": "055196b4",
   "metadata": {},
   "outputs": [
    {
     "name": "stdout",
     "output_type": "stream",
     "text": [
      "<class 'int'>\n",
      "<class 'float'>\n",
      "<class 'str'>\n",
      "<class 'bool'>\n"
     ]
    }
   ],
   "source": [
    "print(type(a))\n",
    "print(type(b))\n",
    "print(type(c))\n",
    "print(type(d))"
   ]
  },
  {
   "cell_type": "code",
   "execution_count": 3,
   "id": "2c94d058",
   "metadata": {},
   "outputs": [],
   "source": [
    "# + - * / // ** %\n"
   ]
  },
  {
   "cell_type": "code",
   "execution_count": 6,
   "id": "a6e8166e",
   "metadata": {},
   "outputs": [
    {
     "name": "stdout",
     "output_type": "stream",
     "text": [
      "Hello Deepak\tHello Deepak\tHello Deepak\t\n"
     ]
    }
   ],
   "source": [
    "a = \"Hello Deepak\\t\"\n",
    "print(a*3)"
   ]
  },
  {
   "cell_type": "code",
   "execution_count": 14,
   "id": "dcb00494",
   "metadata": {},
   "outputs": [
    {
     "name": "stdout",
     "output_type": "stream",
     "text": [
      "Hello + Deepak\n"
     ]
    }
   ],
   "source": [
    "a = \"Hello +\"\n",
    "b = \" Deepak\"\n",
    "c = a+b\n",
    "print(c)"
   ]
  },
  {
   "cell_type": "code",
   "execution_count": 12,
   "id": "07358547",
   "metadata": {},
   "outputs": [
    {
     "name": "stdout",
     "output_type": "stream",
     "text": [
      "0\n"
     ]
    }
   ],
   "source": [
    "a = True\n",
    "b = False\n",
    "c = a*b\n",
    "print(c)"
   ]
  },
  {
   "cell_type": "code",
   "execution_count": 15,
   "id": "560e42c0",
   "metadata": {},
   "outputs": [
    {
     "name": "stdout",
     "output_type": "stream",
     "text": [
      "Enter the value of A = 23\n",
      "Enter the value of B = 24\n",
      "2324\n"
     ]
    }
   ],
   "source": [
    "a = input(\"Enter the value of A = \")\n",
    "b = input(\"Enter the value of B = \")\n",
    "c = a+b\n",
    "print(c)"
   ]
  },
  {
   "cell_type": "code",
   "execution_count": 16,
   "id": "b4feea46",
   "metadata": {},
   "outputs": [
    {
     "name": "stdout",
     "output_type": "stream",
     "text": [
      "12\n"
     ]
    }
   ],
   "source": [
    "a = '1'\n",
    "b = '2'\n",
    "c = a+b\n",
    "print(c)"
   ]
  },
  {
   "cell_type": "code",
   "execution_count": 17,
   "id": "b4224a9d",
   "metadata": {},
   "outputs": [
    {
     "name": "stdout",
     "output_type": "stream",
     "text": [
      "Enter the value of A = 23\n",
      "Enter the value of B = 32\n",
      "55\n"
     ]
    }
   ],
   "source": [
    "a = int(input(\"Enter the value of A = \"))\n",
    "b = int(input(\"Enter the value of B = \"))\n",
    "c = a+b\n",
    "print(c)"
   ]
  },
  {
   "cell_type": "code",
   "execution_count": 22,
   "id": "8303f276",
   "metadata": {},
   "outputs": [
    {
     "name": "stdout",
     "output_type": "stream",
     "text": [
      "Enter Principal = 1200\n",
      "Enter Time = 2\n",
      "Enter Rate = 12\n",
      "The value of i =  288.0\n"
     ]
    }
   ],
   "source": [
    "# i = p*t*r/100\n",
    "p = int(input(\"Enter Principal = \"))\n",
    "t = float(input(\"Enter Time = \"))\n",
    "r = float(input(\"Enter Rate = \"))\n",
    "i = p*t*r/100\n",
    "print('The value of i = ',i)"
   ]
  },
  {
   "cell_type": "code",
   "execution_count": 23,
   "id": "e2132f17",
   "metadata": {},
   "outputs": [
    {
     "name": "stdout",
     "output_type": "stream",
     "text": [
      "Enter the value of radius = 2333\n",
      "The value of area =  17090671.46\n"
     ]
    }
   ],
   "source": [
    "r = float(input(\"Enter the value of radius = \"))\n",
    "a = 3.14*r**2\n",
    "print(\"The value of area = \",a)"
   ]
  },
  {
   "cell_type": "code",
   "execution_count": 28,
   "id": "14275b39",
   "metadata": {},
   "outputs": [
    {
     "name": "stdout",
     "output_type": "stream",
     "text": [
      "Hello my name is Deepak\n"
     ]
    }
   ],
   "source": [
    "name = \"Deepak\"\n",
    "info = \"Hello my name is \"+name\n",
    "print(info)"
   ]
  },
  {
   "cell_type": "code",
   "execution_count": 30,
   "id": "e594bd36",
   "metadata": {},
   "outputs": [
    {
     "name": "stdout",
     "output_type": "stream",
     "text": [
      "Hello my name is Deepak I am 10\n"
     ]
    }
   ],
   "source": [
    "name = \"Deepak\"\n",
    "age = 10\n",
    "info = \"Hello my name is \"+name + \" I am \" +str(age)\n",
    "print(info)"
   ]
  },
  {
   "cell_type": "code",
   "execution_count": 1,
   "id": "d339ec7f",
   "metadata": {
    "scrolled": true
   },
   "outputs": [
    {
     "name": "stdout",
     "output_type": "stream",
     "text": [
      "Enter name = deepak\n",
      "Enter age = 90\n",
      "Enter address = Nakkhu\n",
      "Hello my name is deepak\n",
      "I am from Nakkhu\n",
      "I am 90 years old.\n"
     ]
    }
   ],
   "source": [
    "name = input(\"Enter name = \")\n",
    "age = int(input(\"Enter age = \"))\n",
    "add = input(\"Enter address = \")\n",
    "info = \"Hello my name is \"+name+\"\\n\"+\"I am from \"+add+\"\\n\"+\"I am \"+str(age)+\" years old.\"\n",
    "print(info)"
   ]
  },
  {
   "cell_type": "code",
   "execution_count": null,
   "id": "bcce651c",
   "metadata": {},
   "outputs": [],
   "source": []
  },
  {
   "cell_type": "code",
   "execution_count": null,
   "id": "ed717f60",
   "metadata": {},
   "outputs": [],
   "source": []
  },
  {
   "cell_type": "code",
   "execution_count": null,
   "id": "e574b5ed",
   "metadata": {},
   "outputs": [],
   "source": []
  }
 ],
 "metadata": {
  "kernelspec": {
   "display_name": "Python 3 (ipykernel)",
   "language": "python",
   "name": "python3"
  },
  "language_info": {
   "codemirror_mode": {
    "name": "ipython",
    "version": 3
   },
   "file_extension": ".py",
   "mimetype": "text/x-python",
   "name": "python",
   "nbconvert_exporter": "python",
   "pygments_lexer": "ipython3",
   "version": "3.9.12"
  }
 },
 "nbformat": 4,
 "nbformat_minor": 5
}
