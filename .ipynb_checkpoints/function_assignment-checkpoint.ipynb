{
 "cells": [
  {
   "cell_type": "code",
   "execution_count": 9,
   "id": "4259e85b",
   "metadata": {},
   "outputs": [
    {
     "name": "stdout",
     "output_type": "stream",
     "text": [
      "Enter number of items = 2\n",
      "Enter the product name = alpelibe\n",
      "Enter the product price = 25\n",
      "Enter the quantity = 5\n",
      "Enter the product name = centerfruit\n",
      "Enter the product price = 5\n",
      "Enter the quantity = 10\n",
      "product rate quantity total\n",
      "alpelibe  25  5   125\n",
      "centerfruit  5  10   50\n",
      " The grand total is:  175\n"
     ]
    }
   ],
   "source": [
    "items = int(input(\"Enter number of items = \"))\n",
    "def bill():\n",
    "    total = 0\n",
    "    data = \"\"\n",
    "    grand_tota = total\n",
    "    for i in range(items):\n",
    "        product = input(\"Enter the product name = \")\n",
    "        rate = int(input(\"Enter the product price = \"))\n",
    "        quantity = int(input(\"Enter the quantity = \"))\n",
    "        total = rate*quantity\n",
    "        bills = product + \"5\n",
    "        \" + str(rate) + \"  \" + str(quantity) + \"   \" + str(total) + \"\\n\"\n",
    "        grand_tota = grand_tota+total\n",
    "        data = data+bills\n",
    " \n",
    "    print('product rate quantity total')\n",
    "    print(data,\"The grand total is: \",grand_tota)\n",
    "    \n",
    "bill()"
   ]
  },
  {
   "cell_type": "markdown",
   "id": "2defdc25",
   "metadata": {},
   "source": [
    "    "
   ]
  },
  {
   "cell_type": "code",
   "execution_count": 6,
   "id": "d185a87b",
   "metadata": {},
   "outputs": [
    {
     "name": "stdout",
     "output_type": "stream",
     "text": [
      "Enter first number = 1\n",
      "Enter second number = 2\n",
      "Enter(+ - * /): -\n",
      "-1\n"
     ]
    }
   ],
   "source": [
    "#Wap to make a  simple calculator. \n",
    "def addition():\n",
    "    add = num1 + num2\n",
    "    print(add)\n",
    "def subtraction():\n",
    "    sub = num1 - num2\n",
    "    print(sub)\n",
    "def multiplication():\n",
    "    mul = num1 + num2\n",
    "    print(mul)\n",
    "def division():\n",
    "    div = num1 + num2\n",
    "    print(div)\n",
    "    \n",
    "num1 = int(input(\"Enter first number = \"))\n",
    "num2 = int(input(\"Enter second number = \"))\n",
    "opt = input(\"Enter(+ - * /): \")\n",
    "\n",
    "if opt == \"+\":\n",
    "    addition()\n",
    "elif opt == \"-\":\n",
    "    subtraction()\n",
    "elif opt == \"*\":\n",
    "    multiplication()\n",
    "elif opt == \"/\":\n",
    "    division()\n",
    "else:\n",
    "    print(\"Enter operator is wrong\")"
   ]
  },
  {
   "cell_type": "code",
   "execution_count": null,
   "id": "6baac37a",
   "metadata": {},
   "outputs": [
    {
     "name": "stdout",
     "output_type": "stream",
     "text": [
      "Enter a = 1\n",
      "Enter b = 2\n",
      "Enter + - * / = +\n",
      "3\n",
      "Enter y for more calculatiom.y\n",
      "Enter a = 32\n",
      "Enter b = 4\n",
      "Enter + - * / = -\n",
      "28\n"
     ]
    }
   ],
   "source": [
    "def add(a,b):\n",
    "    return a+b\n",
    "def sub(a,b):\n",
    "    return a-b\n",
    "def mul(a,b):\n",
    "    return a*b\n",
    "def div(a,b):\n",
    "    return a/b\n",
    "def cal():\n",
    "    a = int(input(\"Enter a = \"))\n",
    "    b = int(input(\"Enter b = \"))\n",
    "    o = input(\"Enter + - * / = \")\n",
    "    if o == '+':\n",
    "        print(add(a,b))\n",
    "    elif o == '-':\n",
    "        print(sub(a,b))\n",
    "    elif o == '*':\n",
    "        print(mul(a,b))\n",
    "    elif o == '/':\n",
    "        print(div(a,b))\n",
    "    else:\n",
    "        print(\"THe given operator is not correct\")\n",
    "        \n",
    "    x = input(\"Enter y for more calculatiom.\")\n",
    "    if x == 'y':\n",
    "        cal()\n",
    "\n",
    "cal()"
   ]
  },
  {
   "cell_type": "code",
   "execution_count": null,
   "id": "7683bfd5",
   "metadata": {},
   "outputs": [],
   "source": []
  }
 ],
 "metadata": {
  "kernelspec": {
   "display_name": "Python 3 (ipykernel)",
   "language": "python",
   "name": "python3"
  },
  "language_info": {
   "codemirror_mode": {
    "name": "ipython",
    "version": 3
   },
   "file_extension": ".py",
   "mimetype": "text/x-python",
   "name": "python",
   "nbconvert_exporter": "python",
   "pygments_lexer": "ipython3",
   "version": "3.9.12"
  }
 },
 "nbformat": 4,
 "nbformat_minor": 5
}
