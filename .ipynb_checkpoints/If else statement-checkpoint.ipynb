{
 "cells": [
  {
   "cell_type": "code",
   "execution_count": 1,
   "id": "85f55ac4",
   "metadata": {},
   "outputs": [],
   "source": [
    "# if <conditions>:\n",
    "#     <operations>\n",
    "# elif <condition>:\n",
    "#     <operations>\n",
    "# else:\n",
    "#     <conditions>"
   ]
  },
  {
   "cell_type": "code",
   "execution_count": 5,
   "id": "ff4535a9",
   "metadata": {},
   "outputs": [
    {
     "name": "stdout",
     "output_type": "stream",
     "text": [
      "True\n"
     ]
    }
   ],
   "source": [
    "#<,>,<=,>=,==,!=\n",
    "a = 19\n",
    "b = 20\n",
    "print(a<=b)"
   ]
  },
  {
   "cell_type": "code",
   "execution_count": 6,
   "id": "715079bd",
   "metadata": {},
   "outputs": [
    {
     "name": "stdout",
     "output_type": "stream",
     "text": [
      "False\n"
     ]
    }
   ],
   "source": [
    "#<,>,<=,>=,==,!=\n",
    "a = 19\n",
    "b = 20\n",
    "print(a==b)"
   ]
  },
  {
   "cell_type": "code",
   "execution_count": 10,
   "id": "b9fa54e2",
   "metadata": {},
   "outputs": [
    {
     "name": "stdout",
     "output_type": "stream",
     "text": [
      "Enter the value of a = 0\n"
     ]
    }
   ],
   "source": [
    "a = int(input(\"Enter the value of a = \"))\n",
    "if a > 0:\n",
    "    print(\"The value of a is +ve\")"
   ]
  },
  {
   "cell_type": "code",
   "execution_count": 8,
   "id": "a99ff59a",
   "metadata": {},
   "outputs": [
    {
     "name": "stdout",
     "output_type": "stream",
     "text": [
      "Enter the value of a = -1\n",
      "The value of a is not positive.\n"
     ]
    }
   ],
   "source": [
    "a = int(input(\"Enter the value of a = \"))\n",
    "if a > 0:\n",
    "    print(\"The value of a is +ve.\")\n",
    "else:\n",
    "    print(\"The value of a is not positive.\")"
   ]
  },
  {
   "cell_type": "code",
   "execution_count": 13,
   "id": "92a3be15",
   "metadata": {},
   "outputs": [
    {
     "name": "stdout",
     "output_type": "stream",
     "text": [
      "Enter the value of a = 0\n",
      "The value of a is 0.\n"
     ]
    }
   ],
   "source": [
    "a = int(input(\"Enter the value of a = \"))\n",
    "if a > 0:\n",
    "    print(\"The value of a is +ve.\")\n",
    "elif a < 0:\n",
    "    print(\"The value of a is not positive.\")\n",
    "else:\n",
    "    print(\"The value of a is 0.\")"
   ]
  },
  {
   "cell_type": "code",
   "execution_count": 15,
   "id": "98f71c41",
   "metadata": {},
   "outputs": [
    {
     "name": "stdout",
     "output_type": "stream",
     "text": [
      "Enter a = 90\n",
      "Enter b = 90\n",
      "Both a and b are equal.\n"
     ]
    }
   ],
   "source": [
    "a = int(input(\"Enter a = \"))\n",
    "b = int(input(\"Enter b = \"))\n",
    "if a > b:\n",
    "    print(\"a is greater.\")\n",
    "elif b > a:\n",
    "    print(\"b is greater.\")\n",
    "else:\n",
    "    print(\"Both a and b are equal.\")\n",
    "    "
   ]
  },
  {
   "cell_type": "code",
   "execution_count": 19,
   "id": "2a3a94eb",
   "metadata": {},
   "outputs": [
    {
     "name": "stdout",
     "output_type": "stream",
     "text": [
      "Enter a = 11\n",
      "The value is odd.\n"
     ]
    }
   ],
   "source": [
    "a = int(input(\"Enter a = \"))\n",
    "if a%2 ==:\n",
    "    print(\"The value is even.\")\n",
    "else:\n",
    "    print(\"The value is odd.\")"
   ]
  },
  {
   "cell_type": "code",
   "execution_count": 25,
   "id": "e0b7d1af",
   "metadata": {},
   "outputs": [
    {
     "name": "stdout",
     "output_type": "stream",
     "text": [
      "Enter a = 12\n",
      "Enter b = 1\n",
      "Enter + / * -  -\n",
      "11\n"
     ]
    }
   ],
   "source": [
    "a = int(input(\"Enter a = \"))\n",
    "b = int(input(\"Enter b = \"))\n",
    "o = input(\"Enter + / * -  \")\n",
    "if o == '+':\n",
    "    print(a+b)\n",
    "elif o == '/':\n",
    "    print(a/b)\n",
    "elif o == '-':\n",
    "    print(a-b)\n",
    "elif o == '*':\n",
    "    print(a*b)\n",
    "else:\n",
    "    print(\"Invalid Operator\")"
   ]
  },
  {
   "cell_type": "code",
   "execution_count": 28,
   "id": "fe84f6ea",
   "metadata": {},
   "outputs": [
    {
     "name": "stdout",
     "output_type": "stream",
     "text": [
      "False\n",
      "True\n"
     ]
    }
   ],
   "source": [
    "# and &\n",
    "# or |\n",
    "print(True and False)\n",
    "print(True or False)"
   ]
  },
  {
   "cell_type": "code",
   "execution_count": 31,
   "id": "f7683252",
   "metadata": {},
   "outputs": [
    {
     "name": "stdout",
     "output_type": "stream",
     "text": [
      "Enter a = 12\n",
      "Enter b = 0\n",
      "Enter + / * -  /\n",
      "The value of b cannot be zero while dividing.\n"
     ]
    }
   ],
   "source": [
    "a = int(input(\"Enter a = \"))\n",
    "b = int(input(\"Enter b = \"))\n",
    "o = input(\"Enter + / * -  \")\n",
    "if o == '+':\n",
    "    print(a+b)\n",
    "elif (o == '/') and (b != 0):\n",
    "    print(a/b)\n",
    "elif (o == '/') and (b == 0):  \n",
    "    print(\"The value of b cannot be zero while dividing.\")\n",
    "elif o == '-':\n",
    "    print(a-b)\n",
    "elif o == '*':\n",
    "    print(a*b)\n",
    "    \n",
    "else:\n",
    "    print(\"Invalid Operator\")"
   ]
  },
  {
   "cell_type": "code",
   "execution_count": null,
   "id": "2865e2b1",
   "metadata": {},
   "outputs": [],
   "source": []
  }
 ],
 "metadata": {
  "kernelspec": {
   "display_name": "Python 3 (ipykernel)",
   "language": "python",
   "name": "python3"
  },
  "language_info": {
   "codemirror_mode": {
    "name": "ipython",
    "version": 3
   },
   "file_extension": ".py",
   "mimetype": "text/x-python",
   "name": "python",
   "nbconvert_exporter": "python",
   "pygments_lexer": "ipython3",
   "version": "3.9.12"
  }
 },
 "nbformat": 4,
 "nbformat_minor": 5
}
