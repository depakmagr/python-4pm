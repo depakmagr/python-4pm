{
 "cells": [
  {
   "cell_type": "code",
   "execution_count": 1,
   "id": "5350ca0b",
   "metadata": {},
   "outputs": [],
   "source": [
    "# Tuple\n",
    "# = Indexed\n",
    "# = Ordered\n",
    "# = Multiple and Duplicate value\n",
    "# = Imutable"
   ]
  },
  {
   "cell_type": "code",
   "execution_count": 2,
   "id": "721629eb",
   "metadata": {},
   "outputs": [
    {
     "name": "stdout",
     "output_type": "stream",
     "text": [
      "<class 'tuple'>\n",
      "(1, 2, 3, 4, 5)\n"
     ]
    }
   ],
   "source": [
    "a = (1,2,3,4,5)\n",
    "print(type(a))\n",
    "print(a)"
   ]
  },
  {
   "cell_type": "code",
   "execution_count": 5,
   "id": "baef949a",
   "metadata": {},
   "outputs": [
    {
     "name": "stdout",
     "output_type": "stream",
     "text": [
      "1\n",
      "(1, 2, 3, 4)\n"
     ]
    }
   ],
   "source": [
    "a = (1,2,3,4,5)\n",
    "print(a[0])\n",
    "print(a[0:4])"
   ]
  },
  {
   "cell_type": "code",
   "execution_count": 6,
   "id": "e747fe2a",
   "metadata": {},
   "outputs": [
    {
     "name": "stdout",
     "output_type": "stream",
     "text": [
      "(1, 2, 3, 4, 5, 6, 7, 8, 9)\n"
     ]
    }
   ],
   "source": [
    "a = (1,2,3,4,5,6)\n",
    "b = (7,8,9)\n",
    "c = a+b\n",
    "print(c)"
   ]
  },
  {
   "cell_type": "code",
   "execution_count": 7,
   "id": "619dccb5",
   "metadata": {},
   "outputs": [],
   "source": [
    "# no append() insert() extend()   =     will not used\n",
    "# no update\n",
    "# no del pop() remove\n",
    "# no sort"
   ]
  },
  {
   "cell_type": "code",
   "execution_count": 9,
   "id": "873f3375",
   "metadata": {},
   "outputs": [
    {
     "name": "stdout",
     "output_type": "stream",
     "text": [
      "('Apple',)\n",
      "<class 'tuple'>\n"
     ]
    }
   ],
   "source": [
    "a = (\"Apple\",)\n",
    "print(a)\n",
    "print(type(a))\n"
   ]
  },
  {
   "cell_type": "code",
   "execution_count": 2,
   "id": "4a0d71fd",
   "metadata": {},
   "outputs": [
    {
     "ename": "SyntaxError",
     "evalue": "invalid syntax (3963213324.py, line 4)",
     "output_type": "error",
     "traceback": [
      "\u001b[1;36m  Input \u001b[1;32mIn [2]\u001b[1;36m\u001b[0m\n\u001b[1;33m    x = int(input(\"Enter x =\"))\u001b[0m\n\u001b[1;37m    ^\u001b[0m\n\u001b[1;31mSyntaxError\u001b[0m\u001b[1;31m:\u001b[0m invalid syntax\n"
     ]
    }
   ],
   "source": [
    "t = ()\n",
    "n = int(input(\"Enter n = \")\n",
    "for i in range(n)\n",
    "    x = int(input(\"Enter x =\"))\n",
    "    t = t+(x,)\n",
    "print(t)"
   ]
  },
  {
   "cell_type": "code",
   "execution_count": 9,
   "id": "91cb3e75",
   "metadata": {},
   "outputs": [
    {
     "data": {
      "text/plain": [
       "[1, 2, 3, 4, 5, 6, 7, 8, 9]"
      ]
     },
     "execution_count": 9,
     "metadata": {},
     "output_type": "execute_result"
    }
   ],
   "source": [
    "a = (1,2,3,4,5,6,7,8,9)\n",
    "a = list(a)\n",
    "a"
   ]
  },
  {
   "cell_type": "code",
   "execution_count": 11,
   "id": "66f86104",
   "metadata": {},
   "outputs": [],
   "source": [
    "del a[0]"
   ]
  },
  {
   "cell_type": "code",
   "execution_count": 10,
   "id": "fd69cbfa",
   "metadata": {},
   "outputs": [
    {
     "data": {
      "text/plain": [
       "(1, 2, 3, 4, 5, 6, 7, 8, 9)"
      ]
     },
     "execution_count": 10,
     "metadata": {},
     "output_type": "execute_result"
    }
   ],
   "source": [
    "tuple (a) "
   ]
  },
  {
   "cell_type": "code",
   "execution_count": 13,
   "id": "1d61ee62",
   "metadata": {},
   "outputs": [
    {
     "data": {
      "text/plain": [
       "((1, 2, 3), (4, 5, 6), (7, 8, 9))"
      ]
     },
     "execution_count": 13,
     "metadata": {},
     "output_type": "execute_result"
    }
   ],
   "source": [
    "# TupAle inside tuple\n",
    "a = ((1,2,3),(4,5,6),(7,8,9))\n",
    "a"
   ]
  },
  {
   "cell_type": "code",
   "execution_count": 9,
   "id": "6bf2b284",
   "metadata": {},
   "outputs": [
    {
     "ename": "SyntaxError",
     "evalue": "invalid syntax (3405658748.py, line 3)",
     "output_type": "error",
     "traceback": [
      "\u001b[1;36m  Input \u001b[1;32mIn [9]\u001b[1;36m\u001b[0m\n\u001b[1;33m    for i in range(n):\u001b[0m\n\u001b[1;37m                     ^\u001b[0m\n\u001b[1;31mSyntaxError\u001b[0m\u001b[1;31m:\u001b[0m invalid syntax\n"
     ]
    }
   ],
   "source": [
    "t = tuple()\n",
    "n = int(input(\"Enter n = \")\n",
    "for i in range(n):\n",
    "        name = input(\"Enter name = \")\n",
    "        age = int(input(\"Enter age = \"))\n",
    "        add = input(\"Enter address = \")\n",
    "        \n",
    "    t = t+((name,age,add),)\n",
    "        \n",
    "print(t)"
   ]
  },
  {
   "cell_type": "code",
   "execution_count": 5,
   "id": "4c55ffa9",
   "metadata": {},
   "outputs": [
    {
     "name": "stdout",
     "output_type": "stream",
     "text": [
      "[['deepak', 90, 'ktm'], ['gabs', 9, 'tmk']]\n"
     ]
    }
   ],
   "source": [
    "a = (('deepak',90,'ktm'),('gabs',9,'tmk'))\n",
    "l = []\n",
    "for i in a:\n",
    "    x = list(i)\n",
    "    l.append(x)\n",
    "\n",
    "print(l)"
   ]
  },
  {
   "cell_type": "code",
   "execution_count": 3,
   "id": "5752463a",
   "metadata": {},
   "outputs": [
    {
     "data": {
      "text/plain": [
       "(('deepak', 90, 'ktm'), ('gabs', 9, 'tmk'))"
      ]
     },
     "execution_count": 3,
     "metadata": {},
     "output_type": "execute_result"
    }
   ],
   "source": [
    "a = (('deepak',90,'ktm'),('gabs',9,'tmk'))\n",
    "t = ()\n",
    "for i in a:\n",
    "    x = tuple(i)\n",
    "    t = t+(x,)\n",
    "\n",
    "t"
   ]
  },
  {
   "cell_type": "code",
   "execution_count": 8,
   "id": "6a379834",
   "metadata": {},
   "outputs": [
    {
     "name": "stdout",
     "output_type": "stream",
     "text": [
      "Enter row = 2\n",
      "Enter column = 2\n",
      "Enter x = 1\n",
      "Enter x = 2\n",
      "Enter x = 3\n",
      "Enter x = 4\n",
      "((1, 2), (3, 4))\n"
     ]
    }
   ],
   "source": [
    "#WAP to create a matrix using tuple inside tuple\n",
    "m = ()\n",
    "r = int(input(\"Enter row = \"))\n",
    "c = int(input(\"Enter column = \"))\n",
    "for i in range(r):\n",
    "    y = ()\n",
    "    for j in range(c):\n",
    "        x = int(input(\"Enter x = \"))\n",
    "        y = y+(x,)\n",
    "    m = m+(y,)\n",
    "print(m)\n",
    "    \n"
   ]
  },
  {
   "cell_type": "code",
   "execution_count": null,
   "id": "9d3953af",
   "metadata": {},
   "outputs": [],
   "source": []
  }
 ],
 "metadata": {
  "kernelspec": {
   "display_name": "Python 3 (ipykernel)",
   "language": "python",
   "name": "python3"
  },
  "language_info": {
   "codemirror_mode": {
    "name": "ipython",
    "version": 3
   },
   "file_extension": ".py",
   "mimetype": "text/x-python",
   "name": "python",
   "nbconvert_exporter": "python",
   "pygments_lexer": "ipython3",
   "version": "3.9.12"
  }
 },
 "nbformat": 4,
 "nbformat_minor": 5
}
