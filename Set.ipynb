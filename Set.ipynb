{
 "cells": [
  {
   "cell_type": "code",
   "execution_count": 1,
   "id": "9565ad34",
   "metadata": {},
   "outputs": [],
   "source": [
    "# set\n",
    "# -No indexing\n",
    "# -No duplicate data\n",
    "# -unordered\n",
    "# -mutable"
   ]
  },
  {
   "cell_type": "code",
   "execution_count": 2,
   "id": "889bc09a",
   "metadata": {},
   "outputs": [
    {
     "name": "stdout",
     "output_type": "stream",
     "text": [
      "<class 'set'>\n"
     ]
    }
   ],
   "source": [
    "s = {1,2,3,4}\n",
    "print(type(s))"
   ]
  },
  {
   "cell_type": "code",
   "execution_count": 3,
   "id": "81b24e40",
   "metadata": {},
   "outputs": [
    {
     "name": "stdout",
     "output_type": "stream",
     "text": [
      "{'Apple', 'Cat', 'Dog', 'Ball'}\n"
     ]
    }
   ],
   "source": [
    "s = {'Apple',\"Ball\",\"Cat\",\"Dog\"}\n",
    "print(s)"
   ]
  },
  {
   "cell_type": "code",
   "execution_count": 4,
   "id": "a2348b70",
   "metadata": {},
   "outputs": [
    {
     "data": {
      "text/plain": [
       "{1, 2, 3, 4, 6, 7, 8, 9, 11}"
      ]
     },
     "execution_count": 4,
     "metadata": {},
     "output_type": "execute_result"
    }
   ],
   "source": [
    "s = {1,11,2,3,6,8,4,7,8,9,3}\n",
    "s"
   ]
  },
  {
   "cell_type": "code",
   "execution_count": 5,
   "id": "c5b20f83",
   "metadata": {},
   "outputs": [
    {
     "ename": "TypeError",
     "evalue": "'set' object is not subscriptable",
     "output_type": "error",
     "traceback": [
      "\u001b[1;31m---------------------------------------------------------------------------\u001b[0m",
      "\u001b[1;31mTypeError\u001b[0m                                 Traceback (most recent call last)",
      "Input \u001b[1;32mIn [5]\u001b[0m, in \u001b[0;36m<cell line: 2>\u001b[1;34m()\u001b[0m\n\u001b[0;32m      1\u001b[0m s \u001b[38;5;241m=\u001b[39m {\u001b[38;5;124m'\u001b[39m\u001b[38;5;124mApple\u001b[39m\u001b[38;5;124m'\u001b[39m,\u001b[38;5;124m\"\u001b[39m\u001b[38;5;124mBall\u001b[39m\u001b[38;5;124m\"\u001b[39m,\u001b[38;5;124m\"\u001b[39m\u001b[38;5;124mCat\u001b[39m\u001b[38;5;124m\"\u001b[39m,\u001b[38;5;124m\"\u001b[39m\u001b[38;5;124mDog\u001b[39m\u001b[38;5;124m\"\u001b[39m}\n\u001b[1;32m----> 2\u001b[0m \u001b[38;5;28mprint\u001b[39m(\u001b[43ms\u001b[49m\u001b[43m[\u001b[49m\u001b[38;5;241;43m0\u001b[39;49m\u001b[43m]\u001b[49m)\n",
      "\u001b[1;31mTypeError\u001b[0m: 'set' object is not subscriptable"
     ]
    }
   ],
   "source": [
    "s = {'Apple',\"Ball\",\"Cat\",\"Dog\"}\n",
    "print(s[0])"
   ]
  },
  {
   "cell_type": "code",
   "execution_count": 1,
   "id": "99ef7046",
   "metadata": {},
   "outputs": [
    {
     "name": "stdout",
     "output_type": "stream",
     "text": [
      "Cat\n",
      "Apple\n",
      "Ball\n",
      "Dog\n"
     ]
    }
   ],
   "source": [
    "for i in s:\n",
    "    print(i)"
   ]
  },
  {
   "cell_type": "code",
   "execution_count": 2,
   "id": "e7ff7b0a",
   "metadata": {},
   "outputs": [
    {
     "data": {
      "text/plain": [
       "set"
      ]
     },
     "execution_count": 2,
     "metadata": {},
     "output_type": "execute_result"
    }
   ],
   "source": [
    "s = {1}\n",
    "type(s)"
   ]
  },
  {
   "cell_type": "code",
   "execution_count": 2,
   "id": "b32c7da7",
   "metadata": {},
   "outputs": [
    {
     "name": "stdout",
     "output_type": "stream",
     "text": [
      "Enter n = 2\n",
      "Enter the value of x = 1\n",
      "Enter the value of x = 1\n"
     ]
    },
    {
     "data": {
      "text/plain": [
       "{'1'}"
      ]
     },
     "execution_count": 2,
     "metadata": {},
     "output_type": "execute_result"
    }
   ],
   "source": [
    "s = set()\n",
    "n = int(input(\"Enter n = \"))\n",
    "for i in range(n):\n",
    "    x = input(\"Enter the value of x = \")\n",
    "    s.add(x)\n",
    "s"
   ]
  },
  {
   "cell_type": "code",
   "execution_count": 3,
   "id": "7e140898",
   "metadata": {},
   "outputs": [
    {
     "name": "stdout",
     "output_type": "stream",
     "text": [
      "{'Dog', 'Fosh', 'Cat', 'Ball', 'Apple'}\n"
     ]
    }
   ],
   "source": [
    "a = C\n",
    "b ={\"Fosh\"}\n",
    "a.update(b)\n",
    "print(a)"
   ]
  },
  {
   "cell_type": "code",
   "execution_count": 4,
   "id": "cdb10d33",
   "metadata": {},
   "outputs": [
    {
     "data": {
      "text/plain": [
       "[1, 2, 3, 4, 6, 7, 8, 9, 11]"
      ]
     },
     "execution_count": 4,
     "metadata": {},
     "output_type": "execute_result"
    }
   ],
   "source": [
    "s = {1,11,2,3,6,8,4,7,8,9,3}\n",
    "list(set(s))"
   ]
  },
  {
   "cell_type": "code",
   "execution_count": 10,
   "id": "28c10ce3",
   "metadata": {},
   "outputs": [
    {
     "data": {
      "text/plain": [
       "{'deeps'}"
      ]
     },
     "execution_count": 10,
     "metadata": {},
     "output_type": "execute_result"
    }
   ],
   "source": [
    "# from vendia grm\n",
    "ms= {'gabs','deeps','noobs','nik'}\n",
    "p = {'gangs','rama','suhmma','deeps'}\n",
    "\n",
    "ms.intersection(p)"
   ]
  },
  {
   "cell_type": "code",
   "execution_count": 14,
   "id": "214d145f",
   "metadata": {},
   "outputs": [
    {
     "data": {
      "text/plain": [
       "{'deeps', 'gabs', 'gangs', 'nik', 'noobs', 'rama', 'suhmma'}"
      ]
     },
     "execution_count": 14,
     "metadata": {},
     "output_type": "execute_result"
    }
   ],
   "source": [
    "ms= {'gabs','deeps','noobs','nik'}\n",
    "p = {'gangs','rama','suhmma','deeps'}\n",
    "ms.union(p)"
   ]
  },
  {
   "cell_type": "code",
   "execution_count": 15,
   "id": "d81218a5",
   "metadata": {},
   "outputs": [
    {
     "data": {
      "text/plain": [
       "{'gabs', 'nik', 'noobs'}"
      ]
     },
     "execution_count": 15,
     "metadata": {},
     "output_type": "execute_result"
    }
   ],
   "source": [
    "ms= {'gabs','deeps','noobs','nik'}\n",
    "p = {'gangs','rama','suhmma','deeps'}\n",
    "ms - p"
   ]
  },
  {
   "cell_type": "code",
   "execution_count": 16,
   "id": "8c2678d5",
   "metadata": {},
   "outputs": [
    {
     "data": {
      "text/plain": [
       "{'gabs', 'nik', 'noobs'}"
      ]
     },
     "execution_count": 16,
     "metadata": {},
     "output_type": "execute_result"
    }
   ],
   "source": [
    "ms= {'gabs','deeps','noobs','nik'}\n",
    "p = {'gangs','rama','suhmma','deeps'}\n",
    "ms.difference(p)"
   ]
  },
  {
   "cell_type": "code",
   "execution_count": 17,
   "id": "1591734d",
   "metadata": {},
   "outputs": [
    {
     "data": {
      "text/plain": [
       "{'gangs', 'rama', 'suhmma'}"
      ]
     },
     "execution_count": 17,
     "metadata": {},
     "output_type": "execute_result"
    }
   ],
   "source": [
    "p.difference(ms)"
   ]
  },
  {
   "cell_type": "code",
   "execution_count": 21,
   "id": "7bb535fe",
   "metadata": {},
   "outputs": [
    {
     "name": "stdout",
     "output_type": "stream",
     "text": [
      "{'dau', 'balls', 'haps'}\n"
     ]
    }
   ],
   "source": [
    "U = {'deeps','gangs','haps','balls','dau','noobs','rama','nik'}\n",
    "ms= {'gabs','deeps','noobs','nik'}\n",
    "p = {'gangs','rama','suhmma','deeps'}\n",
    "union= ms.union(p)\n",
    "print(U-union)"
   ]
  },
  {
   "cell_type": "code",
   "execution_count": 22,
   "id": "976fba42",
   "metadata": {},
   "outputs": [
    {
     "name": "stdout",
     "output_type": "stream",
     "text": [
      "{('gangs', 'rama', 'suhmma', 'deeps'), ('gabs', 'deeps', 'noobs', 'nik')}\n"
     ]
    }
   ],
   "source": [
    "a = {('gabs','deeps','noobs','nik'),('gangs','rama','suhmma','deeps')}\n",
    "print(a)"
   ]
  },
  {
   "cell_type": "code",
   "execution_count": 23,
   "id": "41dbc199",
   "metadata": {},
   "outputs": [
    {
     "data": {
      "text/plain": [
       "{'deeps'}"
      ]
     },
     "execution_count": 23,
     "metadata": {},
     "output_type": "execute_result"
    }
   ],
   "source": [
    "ms= {'gabs','deeps','noobs','nik'}\n",
    "p = {'gangs','rama','suhmma','deeps'}\n",
    "broadway = {'deeps'}\n",
    "ms.intersection(broadway,p)"
   ]
  },
  {
   "cell_type": "code",
   "execution_count": null,
   "id": "3a0f94bc",
   "metadata": {},
   "outputs": [],
   "source": [
    "ms= {'gabs','deeps','noobs','nik'}\n",
    "p = {'gangs','rama','suhmma','deeps'}\n",
    "broadway = {'deeps'}\n",
    "ms.union"
   ]
  }
 ],
 "metadata": {
  "kernelspec": {
   "display_name": "Python 3 (ipykernel)",
   "language": "python",
   "name": "python3"
  },
  "language_info": {
   "codemirror_mode": {
    "name": "ipython",
    "version": 3
   },
   "file_extension": ".py",
   "mimetype": "text/x-python",
   "name": "python",
   "nbconvert_exporter": "python",
   "pygments_lexer": "ipython3",
   "version": "3.9.12"
  }
 },
 "nbformat": 4,
 "nbformat_minor": 5
}
