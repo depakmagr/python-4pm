{
 "cells": [
  {
   "cell_type": "code",
   "execution_count": 1,
   "id": "766f5679",
   "metadata": {},
   "outputs": [],
   "source": [
    "class Hello:                   \n",
    "    pass                   #null value will represent.                   "
   ]
  },
  {
   "cell_type": "code",
   "execution_count": 3,
   "id": "f22878a0",
   "metadata": {},
   "outputs": [],
   "source": [
    "# class <class_name>:             #class       \n",
    "#     <operation or methods>        #method\n",
    "    \n",
    "# obj = <class_name>()                #object"
   ]
  },
  {
   "cell_type": "code",
   "execution_count": 5,
   "id": "bf3dcb6b",
   "metadata": {},
   "outputs": [
    {
     "name": "stdout",
     "output_type": "stream",
     "text": [
      "Hello World\n"
     ]
    }
   ],
   "source": [
    "class Hello:                         #class\n",
    "    print(\"Hello World\")            #method\n",
    "    \n",
    "obj = Hello()                          #object"
   ]
  },
  {
   "cell_type": "code",
   "execution_count": 4,
   "id": "1f7de968",
   "metadata": {},
   "outputs": [
    {
     "name": "stdout",
     "output_type": "stream",
     "text": [
      "Hello World\n"
     ]
    }
   ],
   "source": [
    "class Hello:                         #class\n",
    "    def hello(self):                 #method\n",
    "        print(\"Hello World\")                 #operation            \n",
    "    \n",
    "obj = Hello()                           #class initialize\n",
    "obj.hello()                              #initialize value will call  "
   ]
  },
  {
   "cell_type": "code",
   "execution_count": 2,
   "id": "72c438f0",
   "metadata": {},
   "outputs": [
    {
     "name": "stdout",
     "output_type": "stream",
     "text": [
      "Hello World\n"
     ]
    }
   ],
   "source": [
    "class Hello:                                 #class\n",
    "    @staticmethod  \n",
    "    def hello():                              #method\n",
    "        print(\"Hello World\")                  #operation            \n",
    "    \n",
    "obj = Hello()                           #class initialize\n",
    "obj.hello()   "
   ]
  },
  {
   "cell_type": "code",
   "execution_count": 7,
   "id": "3a2ab976",
   "metadata": {},
   "outputs": [
    {
     "name": "stdout",
     "output_type": "stream",
     "text": [
      "Enter the value l1\n",
      "Enter the value b2\n",
      "2\n"
     ]
    }
   ],
   "source": [
    "class Hello:                         #class\n",
    "    def hello(self,x,y):                 #method\n",
    "        a = x*y\n",
    "        print(a)\n",
    "\n",
    "l = int(input(\"Enter the value l\"))\n",
    "b = int(input(\"Enter the value b\"))\n",
    "obj = Hello()                           #class initialize\n",
    "obj.hello(l,b)                              #initialize value will call"
   ]
  },
  {
   "cell_type": "code",
   "execution_count": 4,
   "id": "01aeafa8",
   "metadata": {},
   "outputs": [
    {
     "name": "stdout",
     "output_type": "stream",
     "text": [
      "Enter the value l = 12\n",
      "Enter the value b = 12\n",
      "144\n"
     ]
    }
   ],
   "source": [
    "class Hello:                                  #class\n",
    "    @staticmethod\n",
    "    def hello(x,y):                 #method\n",
    "        a = x*y\n",
    "        print(a)\n",
    "\n",
    "l = int(input(\"Enter the value l = \"))\n",
    "b = int(input(\"Enter the value b = \"))\n",
    "obj = Hello()                           #class initialize\n",
    "obj.hello(l,b)  "
   ]
  },
  {
   "cell_type": "code",
   "execution_count": 12,
   "id": "bcaa1a5a",
   "metadata": {},
   "outputs": [
    {
     "name": "stdout",
     "output_type": "stream",
     "text": [
      "Enter l = 1\n",
      "Enter b = 2\n",
      "Enter h = 3\n",
      "2\n",
      "6\n"
     ]
    }
   ],
   "source": [
    "class Area:\n",
    "    def area(self,l,b):\n",
    "        a = l*b\n",
    "        print(a)\n",
    "    \n",
    "class Volume:\n",
    "    def volume(self,l,b,h):\n",
    "        v = l*b*h\n",
    "        print(v)\n",
    "\n",
    "l = int(input(\"Enter l = \"))\n",
    "b = int(input(\"Enter b = \"))\n",
    "h = int(input(\"Enter h = \"))\n",
    "\n",
    "obj1 = Area()\n",
    "obj2 = Volume()\n",
    "obj1.area(l,b)\n",
    "obj2.volume(l,b,h)"
   ]
  },
  {
   "cell_type": "markdown",
   "id": "979e8938",
   "metadata": {},
   "source": [
    "### "
   ]
  },
  {
   "cell_type": "code",
   "execution_count": 13,
   "id": "bc154d67",
   "metadata": {},
   "outputs": [
    {
     "name": "stdout",
     "output_type": "stream",
     "text": [
      "1\n",
      "None\n"
     ]
    }
   ],
   "source": [
    "print(print(1))"
   ]
  },
  {
   "cell_type": "code",
   "execution_count": 14,
   "id": "99e04801",
   "metadata": {},
   "outputs": [
    {
     "name": "stdout",
     "output_type": "stream",
     "text": [
      "Enter l = 1\n",
      "Enter b = 2\n",
      "Enter h = 3\n",
      "2\n",
      "6\n"
     ]
    }
   ],
   "source": [
    "class Cal():\n",
    "    def area(self,l,b):\n",
    "        a = l*b\n",
    "        print(a)\n",
    "    \n",
    "    def volume(self,l,b,h):\n",
    "        v = l*b*h\n",
    "        print(v)\n",
    "\n",
    "l = int(input(\"Enter l = \"))\n",
    "b = int(input(\"Enter b = \"))\n",
    "h = int(input(\"Enter h = \"))\n",
    "\n",
    "obj1 = Cal()\n",
    "obj1.area(l,b)\n",
    "obj2.volume(l,b,h)"
   ]
  },
  {
   "cell_type": "code",
   "execution_count": 18,
   "id": "511e2a5a",
   "metadata": {},
   "outputs": [
    {
     "name": "stdout",
     "output_type": "stream",
     "text": [
      "Enter l = 1\n",
      "Enter b = 2\n",
      "Enter h = 3\n",
      "2\n",
      "6\n"
     ]
    }
   ],
   "source": [
    "class Cal():                                    #class\n",
    "    def __init__(self,l,b,h):                # __ special type of function which should not be call again.\n",
    "        self.l = l                         #contructor\n",
    "        self.b = b \n",
    "        self.h = h\n",
    "        \n",
    "    def area(self):\n",
    "        a = self.l*self.b\n",
    "        print(a)\n",
    "    \n",
    "    def volume(self):\n",
    "        v = self.l*self.b*self.h\n",
    "        print(v)\n",
    "\n",
    "l = int(input(\"Enter l = \"))\n",
    "b = int(input(\"Enter b = \"))\n",
    "h = int(input(\"Enter h = \"))\n",
    "\n",
    "obj = Cal(l,b,h)\n",
    "obj.area()                                      #function\n",
    "obj.volume()\n"
   ]
  },
  {
   "cell_type": "code",
   "execution_count": 19,
   "id": "7deb508e",
   "metadata": {},
   "outputs": [
    {
     "name": "stdout",
     "output_type": "stream",
     "text": [
      "Enter l = 111\n",
      "Enter b = 222\n",
      "Enter h = 333\n",
      "24642\n",
      "8205786\n",
      "222\n"
     ]
    }
   ],
   "source": [
    "class Cal():                                    #class\n",
    "    def __init__(this,l,b,h):                # __ special type of function which should not be call again.\n",
    "        this.l = l                         #contructor\n",
    "        this.b = b \n",
    "        this.h = h\n",
    "        \n",
    "    def area(self):\n",
    "        a = self.l*self.b\n",
    "        print(a)\n",
    "    \n",
    "    def volume(self):\n",
    "        v = self.l*self.b*self.h\n",
    "        print(v)\n",
    "\n",
    "l = int(input(\"Enter l = \"))\n",
    "b = int(input(\"Enter b = \"))\n",
    "h = int(input(\"Enter h = \"))\n",
    "\n",
    "obj = Cal(l,b,h)\n",
    "obj.area()                                      #function\n",
    "obj.volume()\n",
    "print(obj.b)"
   ]
  },
  {
   "cell_type": "code",
   "execution_count": 21,
   "id": "48f439f8",
   "metadata": {},
   "outputs": [
    {
     "name": "stdout",
     "output_type": "stream",
     "text": [
      "Enter l = 1\n",
      "Enter b = 2\n",
      "Enter h = 3\n",
      "2\n",
      "6\n"
     ]
    }
   ],
   "source": [
    "class Cal():                                    #class\n",
    "    def __init__(this,l,b):                # __ special type of function which should not be call again.\n",
    "        this.l = l                         #contructor\n",
    "        this.b = b \n",
    "        \n",
    "    def area(self):\n",
    "        a = self.l*self.b\n",
    "        print(a)\n",
    "    \n",
    "    def volume(self,h):\n",
    "        v = self.l*self.b*h\n",
    "        print(v)\n",
    "\n",
    "l = int(input(\"Enter l = \"))\n",
    "b = int(input(\"Enter b = \"))\n",
    "h = int(input(\"Enter h = \"))\n",
    "\n",
    "obj = Cal(l,b)\n",
    "obj.area()                                      #function\n",
    "obj.volume(h)"
   ]
  },
  {
   "cell_type": "code",
   "execution_count": 6,
   "id": "983c9ec0",
   "metadata": {},
   "outputs": [
    {
     "name": "stdout",
     "output_type": "stream",
     "text": [
      "Deeps\n",
      "Deeps\n",
      "Deeps\n"
     ]
    }
   ],
   "source": [
    "class Info: \n",
    "    def __init__(this,name,age,add):\n",
    "        this.name = name\n",
    "        this.age = age\n",
    "        this.add = add\n",
    "        \n",
    "    def __str__(this):\n",
    "        return this.name\n",
    "\n",
    "obj = Info(\"Deeps\",34,\"KTM\")\n",
    "print(obj)\n",
    "print(obj.__str__())\n",
    "print(str(obj))"
   ]
  },
  {
   "cell_type": "code",
   "execution_count": 7,
   "id": "763ef451",
   "metadata": {},
   "outputs": [
    {
     "data": {
      "text/plain": [
       "'DeepsMAgar'"
      ]
     },
     "execution_count": 7,
     "metadata": {},
     "output_type": "execute_result"
    }
   ],
   "source": [
    "str(obj) + \"MAgar\""
   ]
  },
  {
   "cell_type": "code",
   "execution_count": 8,
   "id": "ac6fe47b",
   "metadata": {},
   "outputs": [
    {
     "ename": "TypeError",
     "evalue": "unsupported operand type(s) for +: 'Point' and 'Point'",
     "output_type": "error",
     "traceback": [
      "\u001b[1;31m---------------------------------------------------------------------------\u001b[0m",
      "\u001b[1;31mTypeError\u001b[0m                                 Traceback (most recent call last)",
      "Input \u001b[1;32mIn [8]\u001b[0m, in \u001b[0;36m<cell line: 10>\u001b[1;34m()\u001b[0m\n\u001b[0;32m      7\u001b[0m p1 \u001b[38;5;241m=\u001b[39m Point(\u001b[38;5;241m2\u001b[39m,\u001b[38;5;241m3\u001b[39m)\n\u001b[0;32m      8\u001b[0m p2 \u001b[38;5;241m=\u001b[39m Point(\u001b[38;5;241m-\u001b[39m\u001b[38;5;241m1\u001b[39m,\u001b[38;5;241m2\u001b[39m)\n\u001b[1;32m---> 10\u001b[0m \u001b[43mp1\u001b[49m\u001b[43m \u001b[49m\u001b[38;5;241;43m+\u001b[39;49m\u001b[43m \u001b[49m\u001b[43mp2\u001b[49m\n",
      "\u001b[1;31mTypeError\u001b[0m: unsupported operand type(s) for +: 'Point' and 'Point'"
     ]
    }
   ],
   "source": [
    "#Operator overloading.\n",
    "class Point:\n",
    "    def __init__(self, x = 0, y = 0):\n",
    "        self.x = x\n",
    "        self.y = y\n",
    "\n",
    "p1 = Point(2,3)\n",
    "p2 = Point(-1,2)\n",
    "\n",
    "p1 + p2"
   ]
  },
  {
   "cell_type": "code",
   "execution_count": 10,
   "id": "09b37946",
   "metadata": {},
   "outputs": [
    {
     "name": "stdout",
     "output_type": "stream",
     "text": [
      "(1,5)\n"
     ]
    }
   ],
   "source": [
    "class Point:\n",
    "    def __init__(self, x = 0, y = 0):\n",
    "        self.x = x\n",
    "        self.y = y\n",
    "        \n",
    "    def __str__(self):\n",
    "        return \"({0},{1})\".format(self.x,self.y)\n",
    "    \n",
    "    def __add__(self,other):\n",
    "        x = self.x + other.x\n",
    "        y = self.y + other.y\n",
    "        return Point(x,y)\n",
    "\n",
    "p1 = Point(2,3)\n",
    "p2 = Point(-1,2)\n",
    "print(p1 + p2)"
   ]
  },
  {
   "cell_type": "code",
   "execution_count": 11,
   "id": "4c4d2cea",
   "metadata": {},
   "outputs": [
    {
     "name": "stdout",
     "output_type": "stream",
     "text": [
      "1,5\n"
     ]
    }
   ],
   "source": [
    "class Point:\n",
    "    def __init__(self, x = 0, y = 0):\n",
    "        self.x = x\n",
    "        self.y = y\n",
    "        \n",
    "    def __str__(self):\n",
    "        return f\"{self.x},{self.y}\"\n",
    "    \n",
    "    def __add__(self,other):\n",
    "        x = self.x + other.x\n",
    "        y = self.y + other.y\n",
    "        return Point(x,y)\n",
    "\n",
    "p1 = Point(2,3)\n",
    "p2 = Point(-1,2)\n",
    "print(p1 + p2)\n"
   ]
  },
  {
   "cell_type": "code",
   "execution_count": 15,
   "id": "72120995",
   "metadata": {},
   "outputs": [
    {
     "name": "stdout",
     "output_type": "stream",
     "text": [
      "6500\n"
     ]
    }
   ],
   "source": [
    "class Point:\n",
    "    def __init__(self, x = 0):\n",
    "        self.x = x\n",
    "        \n",
    "    def __str__(self):\n",
    "        return f\"{self.x}\"\n",
    "    \n",
    "    def __add__(self,other):\n",
    "        x = self.x + other.x\n",
    "        return Point(x)\n",
    "\n",
    "p1 = Point(2000)\n",
    "p2 = Point(3000)\n",
    "p3 = Point(1500)\n",
    "print(p1 + p2+p3)"
   ]
  },
  {
   "cell_type": "code",
   "execution_count": 21,
   "id": "9fc3f56f",
   "metadata": {},
   "outputs": [
    {
     "name": "stdout",
     "output_type": "stream",
     "text": [
      "This is init method 2000\n",
      "This is init method 3000\n",
      "This is init method 1500\n",
      "This is add method 5000\n",
      "This is init method 5000\n",
      "This is add method 6500\n",
      "This is init method 6500\n",
      "This is str method 6500\n",
      "6500\n"
     ]
    }
   ],
   "source": [
    "class Point:\n",
    "    def __init__(self, x = 0):\n",
    "        self.x = x\n",
    "        print(\"This is init method\",self.x)\n",
    "        \n",
    "    def __str__(self):                                   #when value should be return as object.\n",
    "        print(\"This is str method\",self.x)\n",
    "        return f\"{self.x}\"\n",
    "    \n",
    "    def __add__(self,other):\n",
    "        x = self.x + other.x\n",
    "        print(\"This is add method\",x)\n",
    "        return Point(x)\n",
    "\n",
    "p1 = Point(2000)\n",
    "p2 = Point(3000)\n",
    "p3 = Point(1500)\n",
    "print(p1+p2+p3)"
   ]
  },
  {
   "cell_type": "code",
   "execution_count": null,
   "id": "a70b044b",
   "metadata": {},
   "outputs": [],
   "source": []
  }
 ],
 "metadata": {
  "kernelspec": {
   "display_name": "Python 3 (ipykernel)",
   "language": "python",
   "name": "python3"
  },
  "language_info": {
   "codemirror_mode": {
    "name": "ipython",
    "version": 3
   },
   "file_extension": ".py",
   "mimetype": "text/x-python",
   "name": "python",
   "nbconvert_exporter": "python",
   "pygments_lexer": "ipython3",
   "version": "3.9.12"
  }
 },
 "nbformat": 4,
 "nbformat_minor": 5
}
