{
 "cells": [
  {
   "cell_type": "code",
   "execution_count": 1,
   "id": "f76addb5",
   "metadata": {},
   "outputs": [],
   "source": [
    "try:\n",
    "    pass\n",
    "except:\n",
    "    pass"
   ]
  },
  {
   "cell_type": "code",
   "execution_count": 5,
   "id": "2b1bfa27",
   "metadata": {},
   "outputs": [
    {
     "ename": "IndentationError",
     "evalue": "unexpected indent (2665838230.py, line 2)",
     "output_type": "error",
     "traceback": [
      "\u001b[1;36m  Input \u001b[1;32mIn [5]\u001b[1;36m\u001b[0m\n\u001b[1;33m    print(x)\u001b[0m\n\u001b[1;37m    ^\u001b[0m\n\u001b[1;31mIndentationError\u001b[0m\u001b[1;31m:\u001b[0m unexpected indent\n"
     ]
    }
   ],
   "source": [
    "x = int(input(\"x = \"))\n",
    "    print(x)\n",
    "\n",
    "except:\n",
    "print(\"Enter only valuve\")\n",
    "        "
   ]
  },
  {
   "cell_type": "code",
   "execution_count": 7,
   "id": "8deb5afc",
   "metadata": {},
   "outputs": [
    {
     "ename": "IndentationError",
     "evalue": "unexpected indent (719535919.py, line 2)",
     "output_type": "error",
     "traceback": [
      "\u001b[1;36m  Input \u001b[1;32mIn [7]\u001b[1;36m\u001b[0m\n\u001b[1;33m    print(x)\u001b[0m\n\u001b[1;37m    ^\u001b[0m\n\u001b[1;31mIndentationError\u001b[0m\u001b[1;31m:\u001b[0m unexpected indent\n"
     ]
    }
   ],
   "source": [
    "x = a = ini(input(Enter a = ))\n",
    "\n",
    "\n",
    "except:    \n",
    "      print(\"Enter only valuve\")\n",
    "       "
   ]
  },
  {
   "cell_type": "code",
   "execution_count": 10,
   "id": "64b8abc6",
   "metadata": {},
   "outputs": [
    {
     "name": "stdout",
     "output_type": "stream",
     "text": [
      "Enter a =1\n",
      "Enter b =2\n",
      "0.5\n"
     ]
    }
   ],
   "source": [
    "def cal():\n",
    "    try:\n",
    "        a = int(input(\"Enter a =\"))\n",
    "        b = int(input(\"Enter b =\"))\n",
    "        c = a/b\n",
    "    \n",
    "    except:\n",
    "        print(\"Error\")\n",
    "        cal()\n",
    "    else:\n",
    "        print(c)\n",
    "\n",
    "cal()        "
   ]
  },
  {
   "cell_type": "code",
   "execution_count": 3,
   "id": "89647604",
   "metadata": {},
   "outputs": [
    {
     "name": "stdout",
     "output_type": "stream",
     "text": [
      "Enter a =asc\n",
      "Error!!,The value of a and b should be int.\n",
      "Enter a =sdf\n",
      "Error!!,The value of a and b should be int.\n",
      "Enter a =1\n",
      "Enter b =dfv\n",
      "Error!!,The value of a and b should be int.\n",
      "Enter a =1\n",
      "Enter b =2\n",
      "0.5\n"
     ]
    }
   ],
   "source": [
    "def cal():\n",
    "    try:\n",
    "        a = int(input(\"Enter a =\"))\n",
    "        b = int(input(\"Enter b =\"))\n",
    "        c = a/b  \n",
    "    \n",
    "    except ZeroDivisionError:\n",
    "        print(\"Error!!,Value of b can't be zero.\")\n",
    "        cal()\n",
    "        \n",
    "    except ValueError:\n",
    "        print(\"Error!!,The value of a and b should be int.\")\n",
    "        cal()\n",
    "    \n",
    "    else:\n",
    "        print(c)\n",
    "cal()"
   ]
  },
  {
   "cell_type": "code",
   "execution_count": 5,
   "id": "1ca39821",
   "metadata": {},
   "outputs": [
    {
     "name": "stdout",
     "output_type": "stream",
     "text": [
      "Enter a =1\n",
      "Enter b =asdfg\n",
      "Error!!,The value of a and b should be int.\n",
      "Enter a =1\\\n",
      "Error!!,The value of a and b should be int.\n",
      "Enter a =1\n",
      "Enter b =2\n",
      "0.5\n"
     ]
    }
   ],
   "source": [
    "def cal():\n",
    "    try:\n",
    "        a = int(input(\"Enter a =\"))\n",
    "        b = int(input(\"Enter b =\"))\n",
    "        if b ==0:\n",
    "            raise ZeroDivisionError                                # raise statement.\n",
    "            \n",
    "        else:\n",
    "            c = a/b\n",
    "    \n",
    "    except ZeroDivisionError:\n",
    "        print(\"Error!!,Value of b can't be zero.\")\n",
    "        cal()\n",
    "        \n",
    "    except ValueError:\n",
    "        print(\"Error!!,The value of a and b should be int.\")\n",
    "        cal()\n",
    "    \n",
    "    else:\n",
    "        print(c)\n",
    "cal()"
   ]
  },
  {
   "cell_type": "code",
   "execution_count": 8,
   "id": "9f91db73",
   "metadata": {},
   "outputs": [
    {
     "ename": "AssertionError",
     "evalue": "",
     "output_type": "error",
     "traceback": [
      "\u001b[1;31m---------------------------------------------------------------------------\u001b[0m",
      "\u001b[1;31mAssertionError\u001b[0m                            Traceback (most recent call last)",
      "Input \u001b[1;32mIn [8]\u001b[0m, in \u001b[0;36m<cell line: 3>\u001b[1;34m()\u001b[0m\n\u001b[0;32m      1\u001b[0m \u001b[38;5;66;03m# assert statement\u001b[39;00m\n\u001b[0;32m      2\u001b[0m a \u001b[38;5;241m=\u001b[39m \u001b[38;5;241m10\u001b[39m\n\u001b[1;32m----> 3\u001b[0m \u001b[38;5;28;01massert\u001b[39;00m a \u001b[38;5;241m<\u001b[39m \u001b[38;5;241m5\u001b[39m\n",
      "\u001b[1;31mAssertionError\u001b[0m: "
     ]
    }
   ],
   "source": [
    "# assert statement\n",
    "a = 10\n",
    "assert a < 5"
   ]
  },
  {
   "cell_type": "code",
   "execution_count": 10,
   "id": "a62adf0d",
   "metadata": {},
   "outputs": [
    {
     "name": "stdout",
     "output_type": "stream",
     "text": [
      "Enter x = 3\n",
      "x is not even\n"
     ]
    }
   ],
   "source": [
    "try:\n",
    "    x = int(input(\"Enter x = \"))\n",
    "    assert x%2 ==0\n",
    "    \n",
    "except:\n",
    "    print(\"x is not even\")"
   ]
  },
  {
   "cell_type": "code",
   "execution_count": null,
   "id": "817073ce",
   "metadata": {},
   "outputs": [],
   "source": []
  }
 ],
 "metadata": {
  "kernelspec": {
   "display_name": "Python 3 (ipykernel)",
   "language": "python",
   "name": "python3"
  },
  "language_info": {
   "codemirror_mode": {
    "name": "ipython",
    "version": 3
   },
   "file_extension": ".py",
   "mimetype": "text/x-python",
   "name": "python",
   "nbconvert_exporter": "python",
   "pygments_lexer": "ipython3",
   "version": "3.9.12"
  }
 },
 "nbformat": 4,
 "nbformat_minor": 5
}
