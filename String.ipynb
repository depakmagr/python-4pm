{
 "cells": [
  {
   "cell_type": "code",
   "execution_count": 1,
   "id": "e89ee34a",
   "metadata": {},
   "outputs": [
    {
     "name": "stdout",
     "output_type": "stream",
     "text": [
      "Hello World\n",
      "<class 'str'>\n"
     ]
    }
   ],
   "source": [
    "a = 'Hello World'\n",
    "print(a)\n",
    "print(type(a))"
   ]
  },
  {
   "cell_type": "code",
   "execution_count": 2,
   "id": "e4636aa7",
   "metadata": {},
   "outputs": [
    {
     "name": "stdout",
     "output_type": "stream",
     "text": [
      "Appl]eBall\n"
     ]
    }
   ],
   "source": [
    "a = \"Appl]e\"\n",
    "b = \"Ball\"\n",
    "c = a+b\n",
    "print(c)"
   ]
  },
  {
   "cell_type": "code",
   "execution_count": 4,
   "id": "5b9db781",
   "metadata": {},
   "outputs": [
    {
     "name": "stdout",
     "output_type": "stream",
     "text": [
      "Hello World\n",
      "Hello World\n",
      "Hello World\n",
      "\n"
     ]
    }
   ],
   "source": [
    "a = \"Hello World\\n\"\n",
    "print(a*3)"
   ]
  },
  {
   "cell_type": "code",
   "execution_count": 5,
   "id": "364a6f02",
   "metadata": {},
   "outputs": [
    {
     "name": "stdout",
     "output_type": "stream",
     "text": [
      "Enter a = 1\n",
      "Enter b = 2\n",
      "12\n"
     ]
    }
   ],
   "source": [
    "a = input(\"Enter a = \")\n",
    "b = input(\"Enter b = \")\n",
    "c = a+b\n",
    "print(c)"
   ]
  },
  {
   "cell_type": "code",
   "execution_count": 11,
   "id": "0042672d",
   "metadata": {},
   "outputs": [
    {
     "name": "stdout",
     "output_type": "stream",
     "text": [
      "H\n",
      "Hello\n",
      " World\n",
      "Hello World\n",
      "HloWrd\n",
      "HloWrd\n"
     ]
    }
   ],
   "source": [
    "a = \"Hello World\"\n",
    "print(a[0])\n",
    "print(a[0:5])\n",
    "print(a[5:])\n",
    "print(a[0:11])\n",
    "print(a[0:11:2])\n",
    "print(a[::2])"
   ]
  },
  {
   "cell_type": "code",
   "execution_count": 12,
   "id": "026109da",
   "metadata": {},
   "outputs": [
    {
     "data": {
      "text/plain": [
       "'dlroW olleH'"
      ]
     },
     "execution_count": 12,
     "metadata": {},
     "output_type": "execute_result"
    }
   ],
   "source": [
    "a = \"Hello World\"\n",
    "a[::-1]"
   ]
  },
  {
   "cell_type": "code",
   "execution_count": 16,
   "id": "cad1b562",
   "metadata": {},
   "outputs": [
    {
     "name": "stdout",
     "output_type": "stream",
     "text": [
      "dlroW\n"
     ]
    }
   ],
   "source": [
    "a = \"Hello World\"\n",
    "print(a[-1:-6:-1])"
   ]
  },
  {
   "cell_type": "code",
   "execution_count": 19,
   "id": "12befe21",
   "metadata": {},
   "outputs": [
    {
     "name": "stdout",
     "output_type": "stream",
     "text": [
      "Hello\n",
      " World\n"
     ]
    }
   ],
   "source": [
    "a = \"Hello World\"\n",
    "b = a[0:5]\n",
    "c = a[5:]\n",
    "print(b)\n",
    "print(c)"
   ]
  },
  {
   "cell_type": "code",
   "execution_count": 18,
   "id": "3733fba3",
   "metadata": {},
   "outputs": [
    {
     "data": {
      "text/plain": [
       "'olleH World'"
      ]
     },
     "execution_count": 18,
     "metadata": {},
     "output_type": "execute_result"
    }
   ],
   "source": [
    "a = \"Hello World\"\n",
    "b = a[-7:-12:-1]\n",
    "c = a[5:]\n",
    "d = b+c\n",
    "d"
   ]
  },
  {
   "cell_type": "code",
   "execution_count": 21,
   "id": "1ad35a77",
   "metadata": {},
   "outputs": [
    {
     "name": "stdout",
     "output_type": "stream",
     "text": [
      "Hello World I am Deepak I am from Nakkhu I am 80 years old.\n"
     ]
    }
   ],
   "source": [
    "name = \"Deepak\"\n",
    "age = \"80\"\n",
    "add = \"Nakkhu\"\n",
    "info = \"Hello World I am \"+name+ \" I am from \"+add+\" I am \"+ str(age)+\" years old.\"\n",
    "print(info)"
   ]
  },
  {
   "cell_type": "code",
   "execution_count": 24,
   "id": "ccee076d",
   "metadata": {},
   "outputs": [
    {
     "name": "stdout",
     "output_type": "stream",
     "text": [
      "Enter your name = Deepak Don\n",
      "Enter your age = 69\n",
      "Enter your address = Sindhuli Gadi\n",
      "Hello I am Deepak Don. I am from Sindhuli Gadi. I am 69 years old.\n"
     ]
    }
   ],
   "source": [
    "#string formatting\n",
    "\n",
    "name = input(\"Enter your name = \")\n",
    "age = int(input(\"Enter your age = \"))\n",
    "add = input(\"Enter your address = \")\n",
    "info = f\"Hello I am {name}. I am from {add}. I am {age} years old.\"\n",
    "print(info)"
   ]
  },
  {
   "cell_type": "code",
   "execution_count": 28,
   "id": "b156706d",
   "metadata": {},
   "outputs": [
    {
     "name": "stdout",
     "output_type": "stream",
     "text": [
      "True\n",
      "YES\n"
     ]
    }
   ],
   "source": [
    "a = \"Deepak gabriel Nobel Ganga Prakash Sushma Mosa Rama\"\n",
    "print(\"Nobel\" in a)\n",
    "if \"Deepak\" in a:\n",
    "    print(\"YES\")\n",
    "else:\n",
    "    print(\"NO\")"
   ]
  },
  {
   "cell_type": "code",
   "execution_count": 35,
   "id": "7fa0b8f9",
   "metadata": {},
   "outputs": [
    {
     "name": "stdout",
     "output_type": "stream",
     "text": [
      "Enter search name = nobel\n",
      "NO\n"
     ]
    }
   ],
   "source": [
    "a = \"Deepak gabriel Nobel Ganga Prakash Sushma Mosa Rama\"\n",
    "see = input(\"Enter search name = \")\n",
    "if see in a:\n",
    "    print(\"YES\",a.count(see))\n",
    "else:\n",
    "    print(\"NO\")"
   ]
  },
  {
   "cell_type": "code",
   "execution_count": 38,
   "id": "f4c08009",
   "metadata": {},
   "outputs": [
    {
     "name": "stdout",
     "output_type": "stream",
     "text": [
      "Deepak Don gabriel Nobel Ganga Prakash Sushma Mosa Rama\n",
      "Deepak gabriel Nobel Ganga Prakash Sushma Mosa Rama\n"
     ]
    }
   ],
   "source": [
    "#Replace\n",
    "a = \"Deepak gabriel Nobel Ganga Prakash Sushma Mosa Rama\"\n",
    "print(a.replace('Deepak','Deepak Don'))\n",
    "print(a)"
   ]
  },
  {
   "cell_type": "code",
   "execution_count": 40,
   "id": "dad59b89",
   "metadata": {},
   "outputs": [
    {
     "name": "stdout",
     "output_type": "stream",
     "text": [
      "Deepak Don gabriel Nobel Ganga Prakash Sushma Mosa Rama\n"
     ]
    }
   ],
   "source": [
    "#Replace (Emutable value)\n",
    "a = \"Deepak gabriel Nobel Ganga Prakash Sushma Mosa Rama\"\n",
    "a = a.replace('Deepak','Deepak Don')\n",
    "print(a)"
   ]
  },
  {
   "cell_type": "code",
   "execution_count": 41,
   "id": "827a149d",
   "metadata": {},
   "outputs": [
    {
     "name": "stdout",
     "output_type": "stream",
     "text": [
      " gabriel Nobel Ganga Prakash Sushma Mosa Rama\n"
     ]
    }
   ],
   "source": [
    "#Replace (Mutable value)\n",
    "a = \"Deepak gabriel Nobel Ganga Prakash Sushma Mosa Rama\"\n",
    "a = a.replace('Deepak','')\n",
    "print(a)"
   ]
  },
  {
   "cell_type": "code",
   "execution_count": 44,
   "id": "fb627f6e",
   "metadata": {},
   "outputs": [
    {
     "name": "stdout",
     "output_type": "stream",
     "text": [
      "Deepak Don gabriel Nobel Ganga Prakash Sushma Mosa Rama\n"
     ]
    }
   ],
   "source": [
    "#Replace (Emutable value)\n",
    "a = \"Deepak gabriel Nobel Ganga Prakash Sushma Mosa Rama\"\n",
    "a = a.replace('Deepak','Deepak Don')\n",
    "print(a)"
   ]
  },
  {
   "cell_type": "code",
   "execution_count": 3,
   "id": "7e33b5e3",
   "metadata": {},
   "outputs": [
    {
     "name": "stdout",
     "output_type": "stream",
     "text": [
      "          String Search            \n",
      "Look for: GanGA\n",
      "Yes!!! We dit it guys.\n",
      "count:  1\n"
     ]
    }
   ],
   "source": [
    "print(\"          String Search            \")\n",
    "a = \"Deepak gabriel Nobel Ganga Prakash Sushma Mosa Rama\"\n",
    "a=a.replace('Deepak','Deepak Don')\n",
    "a=a.lower()\n",
    "b=input(\"Look for: \")\n",
    "b=b.lower()\n",
    "if b in a:\n",
    "  print(\"Yes!!! We dit it guys.\\ncount: \",a.count(b))\n",
    "else:\n",
    "  print(\"Not available, SORRY!!!!\")"
   ]
  },
  {
   "cell_type": "code",
   "execution_count": 2,
   "id": "74e556b5",
   "metadata": {},
   "outputs": [
    {
     "name": "stdout",
     "output_type": "stream",
     "text": [
      "          String Search            \n",
      "Choose '0' to search and '1' to exit: 0\n",
      "Look for: GABRIEL\n",
      "Yes!\n",
      "count:  1\n",
      "Choose '0' to search and '1' to exit: 0\n",
      "Look for: 1\n",
      "Not availabe\n",
      "Choose '0' to search and '1' to exit: 1\n",
      "Thank you\n"
     ]
    }
   ],
   "source": [
    "print(\"          String Search            \")\n",
    "a = \"Deepak gabriel Nobel Ganga Prakash Sushma Mosa Rama\"\n",
    "choice=\"\"\n",
    "while True:\n",
    "  choice=input(\"Choose '0' to search and '1' to exit: \")\n",
    "  if choice=='0':\n",
    "    a=a.replace('Deepak','Deepak Don')\n",
    "    a=a.lower()\n",
    "    b=input(\"Look for: \")\n",
    "    b=b.lower()\n",
    "    if b in a:\n",
    "      print(\"Yes!\\ncount: \",a.count(b))\n",
    "    else:\n",
    "     print(\"Not availabe\")\n",
    "  elif choice=='1':\n",
    "    print(\"Thank you\")\n",
    "    break\n",
    "  else:\n",
    "    print(\"Choice not recognised\")\n",
    "    continue"
   ]
  },
  {
   "cell_type": "raw",
   "id": "da4cf10f",
   "metadata": {},
   "source": []
  },
  {
   "cell_type": "code",
   "execution_count": null,
   "id": "0987348b",
   "metadata": {},
   "outputs": [],
   "source": []
  },
  {
   "cell_type": "code",
   "execution_count": 2,
   "id": "16da7bc8",
   "metadata": {},
   "outputs": [
    {
     "name": "stdout",
     "output_type": "stream",
     "text": [
      "Choose 1 for further operation and 0 for exit  = 1\n",
      "Enter days = SUNday\n"
     ]
    },
    {
     "ename": "TypeError",
     "evalue": "'str' object is not callable",
     "output_type": "error",
     "traceback": [
      "\u001b[1;31m---------------------------------------------------------------------------\u001b[0m",
      "\u001b[1;31mTypeError\u001b[0m                                 Traceback (most recent call last)",
      "Input \u001b[1;32mIn [2]\u001b[0m, in \u001b[0;36m<cell line: 4>\u001b[1;34m()\u001b[0m\n\u001b[0;32m      9\u001b[0m b \u001b[38;5;241m=\u001b[39m b\u001b[38;5;241m.\u001b[39mlower()\n\u001b[0;32m     10\u001b[0m \u001b[38;5;28;01mif\u001b[39;00m b \u001b[38;5;129;01min\u001b[39;00m a:\n\u001b[1;32m---> 11\u001b[0m      \u001b[38;5;28;43mprint\u001b[39;49m\u001b[43m(\u001b[49m\u001b[38;5;124;43m\"\u001b[39;49m\u001b[38;5;124;43mYES!!\u001b[39;49m\u001b[38;5;130;43;01m\\n\u001b[39;49;00m\u001b[38;5;124;43mcount\u001b[39;49m\u001b[38;5;124;43m\"\u001b[39;49m\u001b[43m,\u001b[49m\u001b[43ma\u001b[49m\u001b[38;5;241;43m.\u001b[39;49m\u001b[43mcount\u001b[49m\u001b[43m(\u001b[49m\u001b[43mb\u001b[49m\u001b[43m)\u001b[49m\u001b[43m)\u001b[49m\n\u001b[0;32m     12\u001b[0m \u001b[38;5;28;01melse\u001b[39;00m:\n\u001b[0;32m     13\u001b[0m      \u001b[38;5;28mprint\u001b[39m(\u001b[38;5;124m\"\u001b[39m\u001b[38;5;124mNot Available\u001b[39m\u001b[38;5;124m\"\u001b[39m)\n",
      "\u001b[1;31mTypeError\u001b[0m: 'str' object is not callable"
     ]
    }
   ],
   "source": [
    "print = (\"            Searching.......        \")\n",
    "a = \"Sunday monday tuesday wednesday thursday friday SATURDAY\"\n",
    "while True:\n",
    "    option = input(\"Choose 1 for further operation and 0 for exit  = \")\n",
    "    if option=='1':\n",
    "        a = \"Sunday monday tuesday wednesday thursday friday SATURDAY\"\n",
    "        a = a.lower()\n",
    "        b = input(\"Enter days = \")\n",
    "        b = b.lower()\n",
    "        if b in a:\n",
    "             print(\"YES!!\\ncount\",a.count(b))\n",
    "        else:\n",
    "             print(\"Not Available\")\n",
    "    elif option=='0':\n",
    "        print(\"Thank you for visiting us.\")\n",
    "        break\n",
    "    else:\n",
    "        print(\"Invalid option\")\n",
    "        continue\n",
    "        \n",
    "            "
   ]
  },
  {
   "cell_type": "code",
   "execution_count": 1,
   "id": "8e58344d",
   "metadata": {},
   "outputs": [
    {
     "name": "stdout",
     "output_type": "stream",
     "text": [
      "Enter search = sunDAY\n",
      "NO\n"
     ]
    }
   ],
   "source": [
    "a = \"Sunday monday tuesday wednesday thursday friday SATURDAY\"\n",
    "search = input(\"Enter search = \").lower()\n",
    "if search in a:\n",
    "    print(\"Yes\",a.count(search))\n",
    "else:\n",
    "    print(\"NO\")"
   ]
  },
  {
   "cell_type": "code",
   "execution_count": null,
   "id": "e9182abd",
   "metadata": {},
   "outputs": [],
   "source": []
  },
  {
   "cell_type": "code",
   "execution_count": null,
   "id": "2c99a1b3",
   "metadata": {},
   "outputs": [],
   "source": []
  }
 ],
 "metadata": {
  "kernelspec": {
   "display_name": "Python 3 (ipykernel)",
   "language": "python",
   "name": "python3"
  },
  "language_info": {
   "codemirror_mode": {
    "name": "ipython",
    "version": 3
   },
   "file_extension": ".py",
   "mimetype": "text/x-python",
   "name": "python",
   "nbconvert_exporter": "python",
   "pygments_lexer": "ipython3",
   "version": "3.9.12"
  }
 },
 "nbformat": 4,
 "nbformat_minor": 5
}
